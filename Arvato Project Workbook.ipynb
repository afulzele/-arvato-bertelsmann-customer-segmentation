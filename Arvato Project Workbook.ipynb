{
 "cells": [
  {
   "cell_type": "markdown",
   "metadata": {},
   "source": [
    "# Capstone Project: Create a Customer Segmentation Report for Arvato Financial Services\n",
    "\n",
    "In this project, you will analyze demographics data for customers of a mail-order sales company in Germany, comparing it against demographics information for the general population. You'll use unsupervised learning techniques to perform customer segmentation, identifying the parts of the population that best describe the core customer base of the company. Then, you'll apply what you've learned on a third dataset with demographics information for targets of a marketing campaign for the company, and use a model to predict which individuals are most likely to convert into becoming customers for the company. The data that you will use has been provided by our partners at Bertelsmann Arvato Analytics, and represents a real-life data science task.\n",
    "\n",
    "If you completed the first term of this program, you will be familiar with the first part of this project, from the unsupervised learning project. The versions of those two datasets used in this project will include many more features and has not been pre-cleaned. You are also free to choose whatever approach you'd like to analyzing the data rather than follow pre-determined steps. In your work on this project, make sure that you carefully document your steps and decisions, since your main deliverable for this project will be a blog post reporting your findings."
   ]
  },
  {
   "cell_type": "code",
   "execution_count": 1,
   "metadata": {},
   "outputs": [],
   "source": [
    "# import libraries here; add more as necessary\n",
    "import numpy as np\n",
    "import pandas as pd\n",
    "import matplotlib.pyplot as plt\n",
    "import seaborn as sns\n",
    "\n",
    "import math\n",
    "import re\n",
    "\n",
    "import collections\n",
    "from collections import defaultdict\n",
    "import gc\n",
    "\n",
    "# magic word for producing visualizations in notebook\n",
    "%matplotlib inline"
   ]
  },
  {
   "cell_type": "code",
   "execution_count": 2,
   "metadata": {},
   "outputs": [],
   "source": [
    "import sklearn\n",
    "from sklearn.preprocessing import RobustScaler, LabelEncoder, StandardScaler, MinMaxScaler\n",
    "from sklearn.decomposition import PCA\n",
    "from sklearn.cluster import KMeans\n",
    "\n",
    "from sklearn.impute import SimpleImputer\n",
    "\n",
    "from sklearn.cluster import AgglomerativeClustering\n",
    "from scipy.cluster.hierarchy import dendrogram, linkage"
   ]
  },
  {
   "cell_type": "code",
   "execution_count": 3,
   "metadata": {},
   "outputs": [
    {
     "name": "stdout",
     "output_type": "stream",
     "text": [
      "0.23.1\n"
     ]
    }
   ],
   "source": [
    "print (sklearn.__version__)"
   ]
  },
  {
   "cell_type": "code",
   "execution_count": 4,
   "metadata": {},
   "outputs": [],
   "source": [
    "pd.set_option('display.max_columns', None)\n",
    "pd.set_option('display.max_rows', None)"
   ]
  },
  {
   "cell_type": "code",
   "execution_count": 5,
   "metadata": {},
   "outputs": [],
   "source": [
    "imputer = SimpleImputer(missing_values = np.nan , strategy= 'most_frequent')"
   ]
  },
  {
   "cell_type": "markdown",
   "metadata": {},
   "source": [
    "## Part 0: Get to Know the Data\n",
    "\n",
    "There are four data files associated with this project:\n",
    "\n",
    "- `Udacity_AZDIAS_052018.csv`: Demographics data for the general population of Germany; 891 211 persons (rows) x 366 features (columns).\n",
    "- `Udacity_CUSTOMERS_052018.csv`: Demographics data for customers of a mail-order company; 191 652 persons (rows) x 369 features (columns).\n",
    "- `Udacity_MAILOUT_052018_TRAIN.csv`: Demographics data for individuals who were targets of a marketing campaign; 42 982 persons (rows) x 367 (columns).\n",
    "- `Udacity_MAILOUT_052018_TEST.csv`: Demographics data for individuals who were targets of a marketing campaign; 42 833 persons (rows) x 366 (columns).\n",
    "\n",
    "Each row of the demographics files represents a single person, but also includes information outside of individuals, including information about their household, building, and neighborhood. Use the information from the first two files to figure out how customers (\"CUSTOMERS\") are similar to or differ from the general population at large (\"AZDIAS\"), then use your analysis to make predictions on the other two files (\"MAILOUT\"), predicting which recipients are most likely to become a customer for the mail-order company.\n",
    "\n",
    "The \"CUSTOMERS\" file contains three extra columns ('CUSTOMER_GROUP', 'ONLINE_PURCHASE', and 'PRODUCT_GROUP'), which provide broad information about the customers depicted in the file. The original \"MAILOUT\" file included one additional column, \"RESPONSE\", which indicated whether or not each recipient became a customer of the company. For the \"TRAIN\" subset, this column has been retained, but in the \"TEST\" subset it has been removed; it is against that withheld column that your final predictions will be assessed in the Kaggle competition.\n",
    "\n",
    "Otherwise, all of the remaining columns are the same between the three data files. For more information about the columns depicted in the files, you can refer to two Excel spreadsheets provided in the workspace. [One of them](./DIAS Information Levels - Attributes 2017.xlsx) is a top-level list of attributes and descriptions, organized by informational category. [The other](./DIAS Attributes - Values 2017.xlsx) is a detailed mapping of data values for each feature in alphabetical order.\n",
    "\n",
    "In the below cell, we've provided some initial code to load in the first two datasets. Note for all of the `.csv` data files in this project that they're semicolon (`;`) delimited, so an additional argument in the [`read_csv()`](https://pandas.pydata.org/pandas-docs/stable/generated/pandas.read_csv.html) call has been included to read in the data properly. Also, considering the size of the datasets, it may take some time for them to load completely.\n",
    "\n",
    "You'll notice when the data is loaded in that a warning message will immediately pop up. Before you really start digging into the modeling and analysis, you're going to need to perform some cleaning. Take some time to browse the structure of the data and look over the informational spreadsheets to understand the data values. Make some decisions on which features to keep, which features to drop, and if any revisions need to be made on data formats. It'll be a good idea to create a function with pre-processing steps, since you'll need to clean all of the datasets before you work with them."
   ]
  },
  {
   "cell_type": "code",
   "execution_count": 6,
   "metadata": {},
   "outputs": [
    {
     "name": "stderr",
     "output_type": "stream",
     "text": [
      "C:\\Users\\bune1\\anaconda3\\lib\\site-packages\\IPython\\core\\interactiveshell.py:3063: DtypeWarning: Columns (19,20) have mixed types.Specify dtype option on import or set low_memory=False.\n",
      "  interactivity=interactivity, compiler=compiler, result=result)\n"
     ]
    }
   ],
   "source": [
    "# load in the data\n",
    "azdias = pd.read_csv('./azdias.csv').drop(['Unnamed: 0'], axis=1)"
   ]
  },
  {
   "cell_type": "code",
   "execution_count": 333,
   "metadata": {},
   "outputs": [],
   "source": [
    "azdias.head()"
   ]
  },
  {
   "cell_type": "code",
   "execution_count": 8,
   "metadata": {},
   "outputs": [
    {
     "data": {
      "text/plain": [
       "(891221, 366)"
      ]
     },
     "execution_count": 8,
     "metadata": {},
     "output_type": "execute_result"
    }
   ],
   "source": [
    "azdias.shape"
   ]
  },
  {
   "cell_type": "code",
   "execution_count": 10,
   "metadata": {},
   "outputs": [
    {
     "name": "stderr",
     "output_type": "stream",
     "text": [
      "C:\\Users\\bune1\\anaconda3\\lib\\site-packages\\IPython\\core\\interactiveshell.py:3063: DtypeWarning: Columns (19,20) have mixed types.Specify dtype option on import or set low_memory=False.\n",
      "  interactivity=interactivity, compiler=compiler, result=result)\n"
     ]
    }
   ],
   "source": [
    "customers = pd.read_csv('./customers.csv').drop(['Unnamed: 0'], axis=1)"
   ]
  },
  {
   "cell_type": "code",
   "execution_count": 334,
   "metadata": {
    "scrolled": true
   },
   "outputs": [],
   "source": [
    "customers.head()"
   ]
  },
  {
   "cell_type": "code",
   "execution_count": 12,
   "metadata": {},
   "outputs": [
    {
     "data": {
      "text/plain": [
       "(191652, 369)"
      ]
     },
     "execution_count": 12,
     "metadata": {},
     "output_type": "execute_result"
    }
   ],
   "source": [
    "customers.shape"
   ]
  },
  {
   "cell_type": "markdown",
   "metadata": {},
   "source": [
    "# Handling Mixed attributes"
   ]
  },
  {
   "cell_type": "code",
   "execution_count": 13,
   "metadata": {},
   "outputs": [],
   "source": [
    "\"\"\"\n",
    "    A resuable function to get the categorical and numerical columns in a dataframe\n",
    "\"\"\"\n",
    "\n",
    "def get_nums_cats(df):\n",
    "    all_columns = df.columns\n",
    "    cat_columns = df.select_dtypes(include=['O']).columns\n",
    "    num_columns = list(set(all_columns)-set(cat_columns))\n",
    "    return num_columns, cat_columns"
   ]
  },
  {
   "cell_type": "code",
   "execution_count": 14,
   "metadata": {},
   "outputs": [],
   "source": [
    "\"\"\" \n",
    "    Function to convert the given value into nan\n",
    "\"\"\"\n",
    "\n",
    "def convert_to(df, cols, elems, to_convert):\n",
    "    \n",
    "    if type(elems) == list:\n",
    "    \n",
    "        for i in df[cols].columns:\n",
    "            for elem in elems:\n",
    "                if elem in df[i].unique():\n",
    "                    print(\"v\"*40)\n",
    "                    df[i].replace(elem, to_convert, inplace=True)\n",
    "                    print(\"Done converting ----------- '\" + str(elem) + \"' as '\"+ str(to_convert) +\"' in \" + i)\n",
    "                    print(\"v\"*40)\n",
    "                    print()\n",
    "                else:\n",
    "                    print(\"x-\"*40)\n",
    "                    print(str(elem) + \" not in \"+ i)\n",
    "                    print(\"x-\"*40)\n",
    "                    print()\n",
    "    \n",
    "    else:\n",
    "        \n",
    "        for i in df[cols].columns:\n",
    "            if elems in df[i].unique():\n",
    "                print(\"v\"*40)\n",
    "                df[i].replace(elems, to_convert, inplace=True)\n",
    "                print(\"Done converting ----------- '\" + str(elems) + \"' as '\"+ str(to_convert) +\"' in \" + i)\n",
    "                print(\"v\"*40)\n",
    "                print()\n",
    "            else:\n",
    "                print(\"x-\"*40)\n",
    "                print(str(elems) + \" not in \"+ i)\n",
    "                print(\"x-\"*40)\n",
    "                print()"
   ]
  },
  {
   "cell_type": "code",
   "execution_count": 15,
   "metadata": {},
   "outputs": [],
   "source": [
    "az_num_columns, az_cats_columns = get_nums_cats(azdias)\n",
    "\n",
    "all_az_col_list = azdias.columns"
   ]
  },
  {
   "cell_type": "code",
   "execution_count": 336,
   "metadata": {},
   "outputs": [],
   "source": [
    "\"\"\"\n",
    "    We can see there are mixed attributes which has Xs and XXs in it. We need to change it in proper format.\n",
    "    For example in the customers categorical columns we can say and deduce that the 'CAMEO_DEU_2015', 'CAMEO_DEUG_2015',\n",
    "    and 'CAMEO_INTL_2015' has Xs and XXs values in it\n",
    "\"\"\"\n",
    "for col in az_cats_columns:\n",
    "    print(col, azdias[col].unique())"
   ]
  },
  {
   "cell_type": "code",
   "execution_count": 337,
   "metadata": {
    "scrolled": true
   },
   "outputs": [],
   "source": [
    "elem_Xs = ['X', 'XX']\n",
    "convert_to(azdias, az_cats_columns, elem_Xs, np.nan)"
   ]
  },
  {
   "cell_type": "markdown",
   "metadata": {},
   "source": [
    "No more Xs and XXs in the 'CAMEO_DEU_2015', 'CAMEO_DEUG_2015' and 'CAMEO_INTL_2015'. Let's convert the mixed columns into numeric datatype."
   ]
  },
  {
   "cell_type": "code",
   "execution_count": 18,
   "metadata": {},
   "outputs": [
    {
     "data": {
      "text/plain": [
       "Index(['CAMEO_DEUG_2015', 'CAMEO_INTL_2015'], dtype='object')"
      ]
     },
     "execution_count": 18,
     "metadata": {},
     "output_type": "execute_result"
    }
   ],
   "source": [
    "\"\"\"\n",
    "    While loading the dataset we came accross an issue which shows the following:\n",
    "        'Columns (18,19) have mixed types.'\n",
    "    We'll fix this by converting those columns into numerical format\n",
    "\"\"\"\n",
    "\n",
    "az_mixed_attributes_lst = azdias.iloc[:,18:20].columns\n",
    "az_mixed_attributes_lst"
   ]
  },
  {
   "cell_type": "code",
   "execution_count": 338,
   "metadata": {
    "scrolled": true
   },
   "outputs": [],
   "source": [
    "for i in az_mixed_attributes_lst:\n",
    "    temp_cols = [i]\n",
    "    for x in azdias[i].unique(): \n",
    "        if type(x) == str:\n",
    "            convert_to(azdias, temp_cols, x, int(x))"
   ]
  },
  {
   "cell_type": "code",
   "execution_count": 20,
   "metadata": {},
   "outputs": [
    {
     "name": "stdout",
     "output_type": "stream",
     "text": [
      "CAMEO_DEUG_2015\n",
      "[]\n",
      "CAMEO_INTL_2015\n",
      "[]\n"
     ]
    }
   ],
   "source": [
    "for i in az_mixed_attributes_lst:\n",
    "    temp_elem = []\n",
    "    print(i)\n",
    "    for x in azdias[i].unique():\n",
    "        if type(x) == str:\n",
    "            temp_elem.append(x)\n",
    "    print(temp_elem)"
   ]
  },
  {
   "cell_type": "markdown",
   "metadata": {},
   "source": [
    "We have successfully converted the mixed attributes into numeric format."
   ]
  },
  {
   "cell_type": "markdown",
   "metadata": {},
   "source": [
    "# Reading the \"Attributes\" file to find unknowns"
   ]
  },
  {
   "cell_type": "code",
   "execution_count": 21,
   "metadata": {},
   "outputs": [
    {
     "data": {
      "text/html": [
       "<div>\n",
       "<style scoped>\n",
       "    .dataframe tbody tr th:only-of-type {\n",
       "        vertical-align: middle;\n",
       "    }\n",
       "\n",
       "    .dataframe tbody tr th {\n",
       "        vertical-align: top;\n",
       "    }\n",
       "\n",
       "    .dataframe thead th {\n",
       "        text-align: right;\n",
       "    }\n",
       "</style>\n",
       "<table border=\"1\" class=\"dataframe\">\n",
       "  <thead>\n",
       "    <tr style=\"text-align: right;\">\n",
       "      <th></th>\n",
       "      <th>Attribute</th>\n",
       "      <th>Description</th>\n",
       "      <th>Value</th>\n",
       "      <th>Meaning</th>\n",
       "    </tr>\n",
       "  </thead>\n",
       "  <tbody>\n",
       "    <tr>\n",
       "      <th>0</th>\n",
       "      <td>AGER_TYP</td>\n",
       "      <td>best-ager typology</td>\n",
       "      <td>-1</td>\n",
       "      <td>unknown</td>\n",
       "    </tr>\n",
       "    <tr>\n",
       "      <th>1</th>\n",
       "      <td>AGER_TYP</td>\n",
       "      <td>best-ager typology</td>\n",
       "      <td>0</td>\n",
       "      <td>no classification possible</td>\n",
       "    </tr>\n",
       "    <tr>\n",
       "      <th>2</th>\n",
       "      <td>AGER_TYP</td>\n",
       "      <td>best-ager typology</td>\n",
       "      <td>1</td>\n",
       "      <td>passive elderly</td>\n",
       "    </tr>\n",
       "    <tr>\n",
       "      <th>3</th>\n",
       "      <td>AGER_TYP</td>\n",
       "      <td>best-ager typology</td>\n",
       "      <td>2</td>\n",
       "      <td>cultural elderly</td>\n",
       "    </tr>\n",
       "    <tr>\n",
       "      <th>4</th>\n",
       "      <td>AGER_TYP</td>\n",
       "      <td>best-ager typology</td>\n",
       "      <td>3</td>\n",
       "      <td>experience-driven elderly</td>\n",
       "    </tr>\n",
       "  </tbody>\n",
       "</table>\n",
       "</div>"
      ],
      "text/plain": [
       "  Attribute         Description Value                     Meaning\n",
       "0  AGER_TYP  best-ager typology    -1                     unknown\n",
       "1  AGER_TYP  best-ager typology     0  no classification possible\n",
       "2  AGER_TYP  best-ager typology     1             passive elderly\n",
       "3  AGER_TYP  best-ager typology     2            cultural elderly\n",
       "4  AGER_TYP  best-ager typology     3   experience-driven elderly"
      ]
     },
     "execution_count": 21,
     "metadata": {},
     "output_type": "execute_result"
    }
   ],
   "source": [
    "# Reading the 'Attributes file'\n",
    "df_desc = pd.read_excel('./DIAS Attributes - Values 2017.xlsx',  skiprows=1).drop(['Unnamed: 0'], axis=1)\n",
    "df_desc.ffill(axis = 0, inplace=True)\n",
    "df_desc.head()"
   ]
  },
  {
   "cell_type": "code",
   "execution_count": 22,
   "metadata": {},
   "outputs": [],
   "source": [
    "# Function to get a list of unknowns and the values assigned to it\n",
    "def get_unkown_list(df):\n",
    "    # We'll check where the words unknown is used in the dataframe\n",
    "    df_unkwn = df[((df['Meaning']).str.contains(\"unknown\", na=False)) | ((df['Meaning']).str.contains(\"uniformly distributed\", na=False))]\n",
    "    \n",
    "    # There are instances in the attributes dataset where we get values for unknown in the '1,0' format. Not exactly the same\n",
    "    # but seperated by comma. So we'll seperate this into two dataframes so as to continue with our process.\n",
    "    # Dataframe where there is comma not included\n",
    "    df_unkwn_1_value = df_unkwn[~df_unkwn['Value'].str.contains(\",\", na=False)]\n",
    "    # Dataframe where there is comma included\n",
    "    df_unkwn_more_1_value = df_unkwn[df_unkwn['Value'].str.contains(\",\", na=False)]\n",
    "\n",
    "    # We'll create an empty list to store key value pairs of column names as keys and unkown values assigned as values\n",
    "    description_unkwn_1_value = defaultdict(list)\n",
    "\n",
    "    # we'll use this to create just a dataframe of the 'Value' and 'Attribute' and zip it together\n",
    "    for i, j in zip(df_unkwn_1_value.Value,df_unkwn_1_value.Attribute):\n",
    "        description_unkwn_1_value[j].append(i)\n",
    "\n",
    "    # Converting to a dictionary\n",
    "    description_unkwn_1_value = dict(description_unkwn_1_value)\n",
    "\n",
    "    # We'll use the pd.series to convert the dataframe which has unknown values seperated by commas to create a dictionary\n",
    "    description_unkwn_more_1_value_test = pd.Series(df_unkwn_more_1_value.Value.values,index=df_unkwn_more_1_value.Attribute).to_dict()\n",
    "    description_unkwn_more_1_value={}\n",
    "\n",
    "    #Splitting the comma and appending it to a list\n",
    "    for k,v in description_unkwn_more_1_value_test.items():\n",
    "        temp = v.split(\", \")\n",
    "        temp = list(map(int, temp))\n",
    "        if k in description_unkwn_1_value:\n",
    "            a = description_unkwn_1_value.get(k)\n",
    "            b = temp\n",
    "            description_unkwn_1_value[k] = a+b\n",
    "        else:\n",
    "            description_unkwn_more_1_value[k] = temp\n",
    "\n",
    "    # Merging the two dataframes\n",
    "    unknown_dict = {**description_unkwn_1_value, **description_unkwn_more_1_value}\n",
    "    \n",
    "    #Sorting the dataframe\n",
    "    unknown_dict = dict(collections.OrderedDict(sorted(unknown_dict.items())))\n",
    "\n",
    "    return unknown_dict"
   ]
  },
  {
   "cell_type": "code",
   "execution_count": 23,
   "metadata": {},
   "outputs": [],
   "source": [
    "description_unkwn = get_unkown_list(df_desc)"
   ]
  },
  {
   "cell_type": "code",
   "execution_count": 339,
   "metadata": {},
   "outputs": [],
   "source": [
    "description_unkwn"
   ]
  },
  {
   "cell_type": "markdown",
   "metadata": {},
   "source": [
    "# Handling missing data"
   ]
  },
  {
   "cell_type": "code",
   "execution_count": 25,
   "metadata": {},
   "outputs": [],
   "source": [
    "# function to replace unknown values in each columns to nulls\n",
    "def replace_unknown_to_nulls(df, column_list, unkwn_lst):\n",
    "    for k,v in unkwn_lst.items():\n",
    "        if k in column_list:\n",
    "            temp_col = []\n",
    "            temp_col.append(k)\n",
    "            convert_to(df, temp_col, v, np.nan)\n",
    "        else:\n",
    "            print(\"Not present in the dataset: \" + k+\"\\n\")"
   ]
  },
  {
   "cell_type": "markdown",
   "metadata": {},
   "source": [
    "#### Taking care of misspelled feature in 'azdias' and 'attributes'"
   ]
  },
  {
   "cell_type": "code",
   "execution_count": 26,
   "metadata": {},
   "outputs": [
    {
     "data": {
      "text/plain": [
       "['CAMEO_DEUG_2015', 'CAMEO_DEU_2015', 'CAMEO_INTL_2015']"
      ]
     },
     "execution_count": 26,
     "metadata": {},
     "output_type": "execute_result"
    }
   ],
   "source": [
    "cameo_az = azdias.columns[azdias.columns.str.contains(\"CAMEO\")].tolist()\n",
    "cameo_az.sort()\n",
    "cameo_az"
   ]
  },
  {
   "cell_type": "code",
   "execution_count": 27,
   "metadata": {},
   "outputs": [
    {
     "data": {
      "text/plain": [
       "array(['CAMEO_DEUG_2015', 'CAMEO_DEUINTL_2015', 'CAMEO_DEU_2015'],\n",
       "      dtype=object)"
      ]
     },
     "execution_count": 27,
     "metadata": {},
     "output_type": "execute_result"
    }
   ],
   "source": [
    "cameo_desc = df_desc[df_desc['Attribute'].str.match('CAMEO')]['Attribute'].unique()\n",
    "cameo_desc.sort()\n",
    "cameo_desc"
   ]
  },
  {
   "cell_type": "code",
   "execution_count": 28,
   "metadata": {},
   "outputs": [],
   "source": [
    "azdias.rename(columns={'CAMEO_INTL_2015': 'CAMEO_DEUINTL_2015'}, inplace=True)"
   ]
  },
  {
   "cell_type": "markdown",
   "metadata": {},
   "source": [
    "All set. We can remove the columns which which has a lot of missing values."
   ]
  },
  {
   "cell_type": "code",
   "execution_count": 29,
   "metadata": {},
   "outputs": [],
   "source": [
    "all_az_col_list = azdias.columns"
   ]
  },
  {
   "cell_type": "code",
   "execution_count": 340,
   "metadata": {
    "scrolled": true
   },
   "outputs": [],
   "source": [
    "replace_unknown_to_nulls(azdias, all_az_col_list, description_unkwn)"
   ]
  },
  {
   "cell_type": "markdown",
   "metadata": {},
   "source": [
    "# Investigating how many columns to drop"
   ]
  },
  {
   "cell_type": "code",
   "execution_count": 31,
   "metadata": {},
   "outputs": [],
   "source": [
    "percentage_bins = [0,10,20,30,40,50,60,70,80,90,100]"
   ]
  },
  {
   "cell_type": "code",
   "execution_count": 32,
   "metadata": {},
   "outputs": [],
   "source": [
    "def percentage_nulls(bins, axis, df, axis_str):\n",
    "    total_sides = df.shape[axis]\n",
    "    \n",
    "    if axis == 1:\n",
    "        op_side = 0\n",
    "    else:\n",
    "        op_side = 1\n",
    "        \n",
    "    for i in bins:\n",
    "        percent = i/100\n",
    "        diff = total_sides - df.dropna(axis=axis, thresh=(1-percent)*df.shape[op_side]).shape[axis]\n",
    "        print(str(diff) + \" is the number of \" + axis_str + \" which has NaN entries more than or equal to \" + str(i) + \"% of total of \" + str(total_sides) + \" entries\")"
   ]
  },
  {
   "cell_type": "code",
   "execution_count": 33,
   "metadata": {},
   "outputs": [
    {
     "name": "stdout",
     "output_type": "stream",
     "text": [
      "280 is the number of columns which has NaN entries more than or equal to 0% of total of 366 entries\n",
      "245 is the number of columns which has NaN entries more than or equal to 10% of total of 366 entries\n",
      "20 is the number of columns which has NaN entries more than or equal to 20% of total of 366 entries\n",
      "10 is the number of columns which has NaN entries more than or equal to 30% of total of 366 entries\n",
      "9 is the number of columns which has NaN entries more than or equal to 40% of total of 366 entries\n",
      "9 is the number of columns which has NaN entries more than or equal to 50% of total of 366 entries\n",
      "8 is the number of columns which has NaN entries more than or equal to 60% of total of 366 entries\n",
      "7 is the number of columns which has NaN entries more than or equal to 70% of total of 366 entries\n",
      "5 is the number of columns which has NaN entries more than or equal to 80% of total of 366 entries\n",
      "5 is the number of columns which has NaN entries more than or equal to 90% of total of 366 entries\n",
      "0 is the number of columns which has NaN entries more than or equal to 100% of total of 366 entries\n"
     ]
    }
   ],
   "source": [
    "percentage_nulls(percentage_bins, 1, azdias, 'columns')"
   ]
  },
  {
   "cell_type": "code",
   "execution_count": 35,
   "metadata": {},
   "outputs": [
    {
     "name": "stdout",
     "output_type": "stream",
     "text": [
      "891221 is the number of rows which has NaN entries more than or equal to 0% of total of 891221 entries\n",
      "154646 is the number of rows which has NaN entries more than or equal to 10% of total of 891221 entries\n",
      "132105 is the number of rows which has NaN entries more than or equal to 20% of total of 891221 entries\n",
      "105811 is the number of rows which has NaN entries more than or equal to 30% of total of 891221 entries\n",
      "100328 is the number of rows which has NaN entries more than or equal to 40% of total of 891221 entries\n",
      "99968 is the number of rows which has NaN entries more than or equal to 50% of total of 891221 entries\n",
      "93177 is the number of rows which has NaN entries more than or equal to 60% of total of 891221 entries\n",
      "73517 is the number of rows which has NaN entries more than or equal to 70% of total of 891221 entries\n",
      "0 is the number of rows which has NaN entries more than or equal to 80% of total of 891221 entries\n",
      "0 is the number of rows which has NaN entries more than or equal to 90% of total of 891221 entries\n",
      "0 is the number of rows which has NaN entries more than or equal to 100% of total of 891221 entries\n"
     ]
    }
   ],
   "source": [
    "percentage_nulls(percentage_bins, 0, azdias, 'rows')"
   ]
  },
  {
   "cell_type": "code",
   "execution_count": 36,
   "metadata": {},
   "outputs": [],
   "source": [
    "\"\"\"\n",
    "    Function to plot the null counts in the dataset\n",
    "    df -> is the dataframe\n",
    "    max_size -> is the percentage of null values\n",
    "    axis -> is to choose the columns or rows; where 0 is for rows and 1 is for columns\n",
    "\"\"\"\n",
    "\n",
    "def plot_null_chart(df, max_size):\n",
    "    percent = max_size/100\n",
    "\n",
    "    null_columns = list(set(df.columns)-set(df.dropna(axis=1, thresh=np.int((1-percent)*(df.shape[0]))).columns))\n",
    "    \n",
    "    null_values = df[null_columns].isnull().sum().to_list()\n",
    "\n",
    "    null_dict = {\n",
    "        'columns':null_columns,\n",
    "        'null_count':null_values\n",
    "    }\n",
    "\n",
    "    df_null = pd.DataFrame(null_dict)\n",
    "    df_null = df_null.sort_values(by='null_count', ascending=False)    \n",
    "\n",
    "    plot_line_msng_percent = range(10,101,10)\n",
    "\n",
    "    df_null.plot(x='columns', y='null_count', kind='bar', figsize=(20,7), fontsize=13)\n",
    "    \n",
    "    title = 'List of columns which has Nan entries with atleast '+ str(max_size) + '% of total shape'\n",
    "    plt.title(title)\n",
    "\n",
    "    plt.show()"
   ]
  },
  {
   "cell_type": "code",
   "execution_count": 37,
   "metadata": {},
   "outputs": [
    {
     "data": {
      "image/png": "[encoded data removed]",
      "text/plain": [
       "<Figure size 1440x504 with 1 Axes>"
      ]
     },
     "metadata": {
      "needs_background": "light"
     },
     "output_type": "display_data"
    }
   ],
   "source": [
    "plot_null_chart(azdias, 30)"
   ]
  },
  {
   "cell_type": "code",
   "execution_count": 39,
   "metadata": {},
   "outputs": [],
   "source": [
    "\"\"\"\n",
    "    We'll create a function to get a dataframe of null values with there counts and\n",
    "    feature names and bin them in another column\n",
    "\"\"\"\n",
    "\n",
    "def  get_null_dict(df, n, ax_shape, side):\n",
    "    # dictionary of null counts in a sorted order\n",
    "    print(\"Getting null counts and converting into dictionary.\")\n",
    "    null_row_dict = df.isnull().sum(axis=ax_shape).sort_values(ascending=False).to_dict()\n",
    "    \n",
    "    # An empty dictionary which has 'columns' which represents the features name, \n",
    "    # 'null_count' which is the total number of nulls in the feature\n",
    "    # 'percentage' which is the percentage of nulls in a feature column\n",
    "    print(\"Creating empty dictionary.\")\n",
    "    data_null = {\n",
    "        side:[],\n",
    "        'null_count':[],\n",
    "        'percentage': []\n",
    "    }\n",
    "\n",
    "    print(\"Iterating through null_dictionary and appending into the empty dictionary\")\n",
    "    for k,v in null_row_dict.items():\n",
    "        data_null[side].append(k)\n",
    "        data_null['null_count'].append(v)\n",
    "        percent = (v/df.shape[ax_shape])*100\n",
    "        data_null['percentage'].append(round(percent,2))\n",
    "\n",
    "    print(\"Creating empty dictionary\")\n",
    "    df_null = pd.DataFrame(data_null)\n",
    "\n",
    "    print(\"Binning started\")\n",
    "    df_null['binned'] = pd.cut(df_null['percentage'], bins=n, labels=n[:-1])\n",
    "    df_null['binned'].fillna(0, inplace=True)\n",
    "    \n",
    "    print()\n",
    "\n",
    "    return df_null"
   ]
  },
  {
   "cell_type": "code",
   "execution_count": 40,
   "metadata": {},
   "outputs": [],
   "source": [
    "\"\"\"\n",
    "    Function to plot the null counts in the dataset\n",
    "\"\"\"\n",
    "\n",
    "def plot_complete_null_chart(df, df_null, max_size):\n",
    "    if max_size <= df_null.shape[0]:\n",
    "        df_null = df_null.iloc[:max_size, :]\n",
    "\n",
    "        plot_line_msng_percent = range(10,101,10)\n",
    "\n",
    "        df_null.plot(x='columns', y='null_count', kind='bar', figsize=(20,7), fontsize=13)\n",
    "\n",
    "        for percnt in plot_line_msng_percent:\n",
    "\n",
    "            percent_number = (percnt*df.shape[0])/100\n",
    "\n",
    "            horiz_line_data = np.array([percent_number for i in range(max_size+1)])\n",
    "            plt.plot(horiz_line_data, alpha=0.7)\n",
    "\n",
    "\n",
    "        plt.show()\n",
    "    \n",
    "    else:\n",
    "        print(\"Change the max_size value\")"
   ]
  },
  {
   "cell_type": "code",
   "execution_count": 41,
   "metadata": {},
   "outputs": [
    {
     "name": "stdout",
     "output_type": "stream",
     "text": [
      "Getting null counts and converting into dictionary.\n",
      "Creating empty dictionary.\n",
      "Iterating through null_dictionary and appending into the empty dictionary\n",
      "Creating empty dictionary\n",
      "Binning started\n",
      "\n"
     ]
    }
   ],
   "source": [
    "az_null_col_df = get_null_dict(azdias, percentage_bins, 0, 'columns')"
   ]
  },
  {
   "cell_type": "code",
   "execution_count": 42,
   "metadata": {},
   "outputs": [
    {
     "data": {
      "image/png": "[encoded data removed]",
      "text/plain": [
       "<Figure size 1440x504 with 1 Axes>"
      ]
     },
     "metadata": {
      "needs_background": "light"
     },
     "output_type": "display_data"
    }
   ],
   "source": [
    "# second arguement is to get the number of elements we want in the x-axis\n",
    "plot_complete_null_chart(azdias, az_null_col_df, 40)"
   ]
  },
  {
   "cell_type": "markdown",
   "metadata": {},
   "source": [
    "### After checking the number of features that are required to be dropped, choosing 30% seems the best option"
   ]
  },
  {
   "cell_type": "code",
   "execution_count": 43,
   "metadata": {},
   "outputs": [
    {
     "data": {
      "text/plain": [
       "(891221, 366)"
      ]
     },
     "execution_count": 43,
     "metadata": {},
     "output_type": "execute_result"
    }
   ],
   "source": [
    "azdias.shape"
   ]
  },
  {
   "cell_type": "code",
   "execution_count": 44,
   "metadata": {},
   "outputs": [],
   "source": [
    "should_del_per = 30\n",
    "percent = should_del_per/100\n",
    "azdias.dropna(axis=1, thresh=np.int((1-percent)*(azdias.shape[0])), inplace=True)"
   ]
  },
  {
   "cell_type": "code",
   "execution_count": 45,
   "metadata": {},
   "outputs": [],
   "source": [
    "azdias.drop(['REGIOTYP', 'KKK'], axis=1, inplace=True)"
   ]
  },
  {
   "cell_type": "code",
   "execution_count": 46,
   "metadata": {},
   "outputs": [
    {
     "data": {
      "text/plain": [
       "(891221, 354)"
      ]
     },
     "execution_count": 46,
     "metadata": {},
     "output_type": "execute_result"
    }
   ],
   "source": [
    "azdias.shape"
   ]
  },
  {
   "cell_type": "markdown",
   "metadata": {},
   "source": [
    "## Investigating other features"
   ]
  },
  {
   "cell_type": "code",
   "execution_count": 47,
   "metadata": {},
   "outputs": [],
   "source": [
    "to_be_removed = []"
   ]
  },
  {
   "cell_type": "code",
   "execution_count": 48,
   "metadata": {},
   "outputs": [],
   "source": [
    "az_num_columns, az_cats_columns = get_nums_cats(azdias)\n",
    "\n",
    "all_az_col_list = azdias.columns"
   ]
  },
  {
   "cell_type": "code",
   "execution_count": 341,
   "metadata": {},
   "outputs": [],
   "source": [
    "for i in az_cats_columns:\n",
    "    print(i)\n",
    "    print(azdias[i].value_counts(dropna=False))\n",
    "    print()"
   ]
  },
  {
   "cell_type": "code",
   "execution_count": 50,
   "metadata": {},
   "outputs": [],
   "source": [
    "\"\"\"\n",
    "Converting 'CAMEO_DEU_2015' using label encoder\n",
    "\"\"\"\n",
    "int_encoder = LabelEncoder().fit_transform(azdias['CAMEO_DEU_2015'].values.tolist())\n",
    "azdias['CAMEO_DEU_2015'] = int_encoder"
   ]
  },
  {
   "cell_type": "code",
   "execution_count": 51,
   "metadata": {},
   "outputs": [],
   "source": [
    "\"\"\"\n",
    "We can see that 'D19_LETZTER_KAUF_BRANCHE' is a column which has values representing different columns.\n",
    "We might not need this and let's remove this out for the time being.\n",
    "\"\"\"\n",
    "to_be_removed.append('D19_LETZTER_KAUF_BRANCHE')"
   ]
  },
  {
   "cell_type": "code",
   "execution_count": 52,
   "metadata": {},
   "outputs": [],
   "source": [
    "\"\"\"\n",
    "'EINGEFUEGT_AM' is a column that has a lot of dates. We can either drop this column or extract the year and check if the\n",
    "model performs better.\n",
    "\n",
    "Converting this column into datetime and extracting year.\n",
    "\"\"\"\n",
    "\n",
    "azdias['EINGEFUEGT_AM'] = pd.to_datetime(azdias['EINGEFUEGT_AM'], format='%Y-%m-%d %H:%M:%S').dt.year"
   ]
  },
  {
   "cell_type": "code",
   "execution_count": 342,
   "metadata": {},
   "outputs": [],
   "source": [
    "azdias['EINGEFUEGT_AM'].value_counts()"
   ]
  },
  {
   "cell_type": "code",
   "execution_count": 54,
   "metadata": {},
   "outputs": [],
   "source": [
    "\"\"\"\n",
    "Feature 'OST_WEST_KZ' has binary values in the format 'W', 'O'. We'll change this into 'W'->0 and 'O'->1\n",
    "\"\"\"\n",
    "\n",
    "azdias['OST_WEST_KZ'] = azdias['OST_WEST_KZ'].replace(['W','O'],[0,1])"
   ]
  },
  {
   "cell_type": "code",
   "execution_count": 343,
   "metadata": {},
   "outputs": [],
   "source": [
    "azdias['OST_WEST_KZ'].value_counts()"
   ]
  },
  {
   "cell_type": "markdown",
   "metadata": {},
   "source": [
    "There are few features in the dataset that has a lot of unique values. It would be better to bin them and perform modelling."
   ]
  },
  {
   "cell_type": "code",
   "execution_count": 344,
   "metadata": {},
   "outputs": [],
   "source": [
    "for col in azdias.columns:\n",
    "    print(col, len(azdias[col].unique()))"
   ]
  },
  {
   "cell_type": "code",
   "execution_count": 57,
   "metadata": {},
   "outputs": [],
   "source": [
    "def change_feat_bin(num, range_num, min_entry, max_entry):\n",
    "    \n",
    "    max_roundUp = int(math.ceil(max_entry / float(range_num))) * range_num\n",
    "    min_roundDown = int(math.floor(min_entry / float(range_num))) * range_num\n",
    "    \n",
    "    bins = list(range(min_roundDown, max_roundUp+1, range_num))\n",
    "    labels = list(range(1, len(bins)))    \n",
    "    \n",
    "    if not np.isnan(num):\n",
    "        for i in range(1, len(bins)):\n",
    "            if num <= bins[i]:\n",
    "                return labels[i-1]\n",
    "    else:\n",
    "        return np.nan"
   ]
  },
  {
   "cell_type": "code",
   "execution_count": 58,
   "metadata": {},
   "outputs": [],
   "source": [
    "def recode_manual(df, col, bin_number):\n",
    "    recode_str = col+'_recode'\n",
    "    \n",
    "    min_val = df[col].min()\n",
    "    max_val = df[col].max()\n",
    "    \n",
    "    df[recode_str] = df[col].apply(lambda num : change_feat_bin(num, bin_number, min_val, max_val))\n",
    "    \n",
    "    return"
   ]
  },
  {
   "cell_type": "code",
   "execution_count": 59,
   "metadata": {},
   "outputs": [],
   "source": [
    "to_be_removed.append('ANZ_HAUSHALTE_AKTIV')\n",
    "\n",
    "min_val = azdias['ANZ_HAUSHALTE_AKTIV'].min()\n",
    "max_val = azdias['ANZ_HAUSHALTE_AKTIV'].max()\n",
    "\n",
    "azdias['ANZ_HAUSHALTE_AKTIV_recode'] = azdias['ANZ_HAUSHALTE_AKTIV'].apply(lambda num : change_feat_bin(num, 50, min_val, max_val))"
   ]
  },
  {
   "cell_type": "code",
   "execution_count": 60,
   "metadata": {},
   "outputs": [],
   "source": [
    "to_be_removed.append('ANZ_STATISTISCHE_HAUSHALTE')\n",
    "\n",
    "min_val = azdias['ANZ_STATISTISCHE_HAUSHALTE'].min()\n",
    "max_val = azdias['ANZ_STATISTISCHE_HAUSHALTE'].max()\n",
    "\n",
    "azdias['ANZ_STATISTISCHE_HAUSHALTE_recode'] = azdias['ANZ_STATISTISCHE_HAUSHALTE'].apply(lambda num : change_feat_bin(num, 100, min_val, max_val))"
   ]
  },
  {
   "cell_type": "code",
   "execution_count": 61,
   "metadata": {},
   "outputs": [],
   "source": [
    "\"\"\"\n",
    "    Since GEBURTSJAHR has a 0s as the year value, we can convert the 0s to null or drop the column.\n",
    "\"\"\"\n",
    "\n",
    "to_be_removed.append('GEBURTSJAHR')\n",
    "\n",
    "azdias['GEBURTSJAHR_recode'] = azdias['GEBURTSJAHR'].replace(0, np.nan)\n",
    "min_val = azdias['GEBURTSJAHR_recode'].min()\n",
    "max_val = azdias['GEBURTSJAHR_recode'].max()\n",
    "\n",
    "azdias['GEBURTSJAHR_recode'] = azdias['GEBURTSJAHR_recode'].apply(lambda num : change_feat_bin(num, 10, min_val, max_val))\n",
    "azdias['GEBURTSJAHR_recode'].replace(np.nan, 0, inplace=True)"
   ]
  },
  {
   "cell_type": "code",
   "execution_count": 62,
   "metadata": {},
   "outputs": [],
   "source": [
    "to_be_removed.append('KBA13_ANZAHL_PKW')\n",
    "\n",
    "min_val = azdias['KBA13_ANZAHL_PKW'].min()\n",
    "max_val = azdias['KBA13_ANZAHL_PKW'].max()\n",
    "\n",
    "azdias['KBA13_ANZAHL_PKW_recode'] = azdias['KBA13_ANZAHL_PKW'].apply(lambda num : change_feat_bin(num, 100, min_val, max_val))"
   ]
  },
  {
   "cell_type": "code",
   "execution_count": 63,
   "metadata": {},
   "outputs": [],
   "source": [
    "#---------------------------------------------------------------------------------------------------------------"
   ]
  },
  {
   "cell_type": "code",
   "execution_count": 64,
   "metadata": {},
   "outputs": [],
   "source": [
    "to_be_removed.append('MIN_GEBAEUDEJAHR')\n",
    "\n",
    "min_val = azdias['MIN_GEBAEUDEJAHR'].min()\n",
    "max_val = azdias['MIN_GEBAEUDEJAHR'].max()\n",
    "\n",
    "azdias['MIN_GEBAEUDEJAHR_recode'] = azdias['MIN_GEBAEUDEJAHR'].apply(lambda num : change_feat_bin(num, 5, min_val, max_val))"
   ]
  },
  {
   "cell_type": "code",
   "execution_count": 65,
   "metadata": {},
   "outputs": [],
   "source": [
    "to_be_removed.append('VERDICHTUNGSRAUM')\n",
    "\n",
    "min_val = azdias['VERDICHTUNGSRAUM'].min()\n",
    "max_val = azdias['VERDICHTUNGSRAUM'].max()\n",
    "\n",
    "azdias['VERDICHTUNGSRAUM_recode'] = azdias['VERDICHTUNGSRAUM'].apply(lambda num : change_feat_bin(num, 5, min_val, max_val))"
   ]
  },
  {
   "cell_type": "markdown",
   "metadata": {},
   "source": [
    "We have some duplicate features which are:\n",
    "\n",
    "    'LP_STATUS_GROB','LP_FAMILIE_GROB','LP_LEBENSPHASE_GROB','ALTERSKATEGORIE_GROB' \n",
    "    \n",
    "and they match with\n",
    "    \n",
    "    'LP_STATUS_FIEN','LP_FAMILIE_FIEN','LP_LEBENSPHASE_FIEN','ALTERSKATEGORIE_FIEN'\n",
    "    \n",
    "respectively"
   ]
  },
  {
   "cell_type": "code",
   "execution_count": 66,
   "metadata": {},
   "outputs": [],
   "source": [
    "_grob = azdias.columns[azdias.columns.str.endswith(\"_GROB\")]"
   ]
  },
  {
   "cell_type": "code",
   "execution_count": 67,
   "metadata": {},
   "outputs": [],
   "source": [
    "_fein = azdias.columns[azdias.columns.str.endswith(\"_FEIN\")]"
   ]
  },
  {
   "cell_type": "code",
   "execution_count": 68,
   "metadata": {},
   "outputs": [],
   "source": [
    "same_columns = []"
   ]
  },
  {
   "cell_type": "code",
   "execution_count": 69,
   "metadata": {},
   "outputs": [],
   "source": [
    "for i in _grob:\n",
    "    for j in _fein:\n",
    "        if i[:-4] == j[:-4]:\n",
    "            same_columns.append([i,j])"
   ]
  },
  {
   "cell_type": "code",
   "execution_count": 70,
   "metadata": {},
   "outputs": [
    {
     "data": {
      "text/plain": [
       "[['LP_FAMILIE_GROB', 'LP_FAMILIE_FEIN'],\n",
       " ['LP_LEBENSPHASE_GROB', 'LP_LEBENSPHASE_FEIN'],\n",
       " ['LP_STATUS_GROB', 'LP_STATUS_FEIN'],\n",
       " ['ALTERSKATEGORIE_GROB', 'ALTERSKATEGORIE_FEIN']]"
      ]
     },
     "execution_count": 70,
     "metadata": {},
     "output_type": "execute_result"
    }
   ],
   "source": [
    "same_columns"
   ]
  },
  {
   "cell_type": "code",
   "execution_count": 71,
   "metadata": {
    "scrolled": false
   },
   "outputs": [
    {
     "data": {
      "image/png": "[encoded data removed]",
      "text/plain": [
       "<Figure size 1440x432 with 2 Axes>"
      ]
     },
     "metadata": {
      "needs_background": "light"
     },
     "output_type": "display_data"
    },
    {
     "data": {
      "image/png": "[encoded data removed]",
      "text/plain": [
       "<Figure size 1440x432 with 2 Axes>"
      ]
     },
     "metadata": {
      "needs_background": "light"
     },
     "output_type": "display_data"
    },
    {
     "data": {
      "image/png": "[encoded data removed]",
      "text/plain": [
       "<Figure size 1440x432 with 2 Axes>"
      ]
     },
     "metadata": {
      "needs_background": "light"
     },
     "output_type": "display_data"
    },
    {
     "data": {
      "image/png": "[encoded data removed]",
      "text/plain": [
       "<Figure size 1440x432 with 2 Axes>"
      ]
     },
     "metadata": {
      "needs_background": "light"
     },
     "output_type": "display_data"
    }
   ],
   "source": [
    "for group in same_columns:\n",
    "    \n",
    "    fig = plt.figure(figsize=(20, 6))\n",
    "    \n",
    "    ax1 = fig.add_subplot(121)\n",
    "    sns.countplot(azdias[group[0]],order=azdias[group[0]].value_counts().index)\n",
    "\n",
    "    ax2 = fig.add_subplot(122)\n",
    "    sns.countplot(azdias[group[1]],order=azdias[group[1]].value_counts().index)\n",
    "\n",
    "    plt.show()"
   ]
  },
  {
   "cell_type": "markdown",
   "metadata": {},
   "source": [
    "As we can see the FIEN values have more categories than the GROB features. We'll drop the GROB features"
   ]
  },
  {
   "cell_type": "code",
   "execution_count": 345,
   "metadata": {},
   "outputs": [],
   "source": [
    "to_be_removed = list(to_be_removed) + list(_grob)\n",
    "# to_be_removed"
   ]
  },
  {
   "cell_type": "markdown",
   "metadata": {},
   "source": [
    "### Formating the PRAEGENDE_JUGENDJAHRE into two different features.\n"
   ]
  },
  {
   "cell_type": "code",
   "execution_count": 73,
   "metadata": {},
   "outputs": [],
   "source": [
    "df_desc_pj = df_desc[df_desc['Attribute'] == 'PRAEGENDE_JUGENDJAHRE'].copy()\n",
    "df_desc_pj['Num_Extract'] = df_desc_pj['Meaning'].str.extract('(\\d+)')\n",
    "df_desc_pj[\"Num_Extract\"] = pd.to_numeric(df_desc_pj[\"Num_Extract\"])\n",
    "\n",
    "word_list = ['Mainstream', 'Avantgarde']\n",
    "df_desc_pj['Word_Extract'] = df_desc_pj['Meaning'].str.extract('({})'.format('|'.join(word_list)), \n",
    "                        flags=re.IGNORECASE, expand=False).str.lower().fillna('')\n",
    "\n",
    "age_dict = df_desc_pj.iloc[1:, :].set_index('Value')['Num_Extract'].to_dict()\n",
    "pj_word_dict = df_desc_pj.iloc[1:, :].set_index('Value')['Word_Extract'].to_dict()"
   ]
  },
  {
   "cell_type": "code",
   "execution_count": 74,
   "metadata": {},
   "outputs": [],
   "source": [
    "to_be_removed.append('PRAEGENDE_JUGENDJAHRE')\n",
    "azdias['PRAEGENDE_JUGENDJAHRE_age_recode'] = azdias['PRAEGENDE_JUGENDJAHRE'].map(age_dict)\n",
    "azdias['PRAEGENDE_JUGENDJAHRE_word_recode'] = azdias['PRAEGENDE_JUGENDJAHRE'].map(pj_word_dict)"
   ]
  },
  {
   "cell_type": "code",
   "execution_count": 75,
   "metadata": {},
   "outputs": [],
   "source": [
    "min_val = azdias['PRAEGENDE_JUGENDJAHRE_age_recode'].min()\n",
    "max_val = azdias['PRAEGENDE_JUGENDJAHRE_age_recode'].max()\n",
    "\n",
    "azdias['PRAEGENDE_JUGENDJAHRE_age_recode'] = azdias['PRAEGENDE_JUGENDJAHRE_age_recode'].apply(lambda num : change_feat_bin(num, 10, min_val, max_val))"
   ]
  },
  {
   "cell_type": "code",
   "execution_count": 76,
   "metadata": {},
   "outputs": [],
   "source": [
    "azdias['PRAEGENDE_JUGENDJAHRE_word_recode']\n",
    "int_encoder = LabelEncoder().fit_transform(azdias['PRAEGENDE_JUGENDJAHRE_word_recode'].values.tolist())\n",
    "azdias['PRAEGENDE_JUGENDJAHRE_word_recode'] = int_encoder"
   ]
  },
  {
   "cell_type": "markdown",
   "metadata": {},
   "source": [
    "We have tried to bin a lot of features. "
   ]
  },
  {
   "cell_type": "code",
   "execution_count": 77,
   "metadata": {},
   "outputs": [],
   "source": [
    "az_num_columns, az_cats_columns = get_nums_cats(azdias)\n",
    "\n",
    "all_az_col_list = azdias.columns"
   ]
  },
  {
   "cell_type": "code",
   "execution_count": 78,
   "metadata": {},
   "outputs": [],
   "source": [
    "azdias.drop(list(set(to_be_removed)), axis=1, inplace=True)"
   ]
  },
  {
   "cell_type": "code",
   "execution_count": 79,
   "metadata": {},
   "outputs": [
    {
     "data": {
      "text/plain": [
       "(891221, 351)"
      ]
     },
     "execution_count": 79,
     "metadata": {},
     "output_type": "execute_result"
    }
   ],
   "source": [
    "azdias.shape"
   ]
  },
  {
   "cell_type": "markdown",
   "metadata": {},
   "source": [
    "### Imputing the dataset with the most-frequent value"
   ]
  },
  {
   "cell_type": "code",
   "execution_count": 80,
   "metadata": {},
   "outputs": [
    {
     "data": {
      "text/plain": [
       "32811"
      ]
     },
     "execution_count": 80,
     "metadata": {},
     "output_type": "execute_result"
    }
   ],
   "source": [
    "gc.collect()"
   ]
  },
  {
   "cell_type": "code",
   "execution_count": 81,
   "metadata": {},
   "outputs": [],
   "source": [
    "azdias.drop(['LNR'], axis=1, inplace=True)"
   ]
  },
  {
   "cell_type": "code",
   "execution_count": 346,
   "metadata": {},
   "outputs": [],
   "source": [
    "azdias.isnull().sum()"
   ]
  },
  {
   "cell_type": "code",
   "execution_count": 83,
   "metadata": {},
   "outputs": [],
   "source": [
    "azdias = pd.DataFrame(imputer.fit_transform(azdias.values), columns= azdias.columns)"
   ]
  },
  {
   "cell_type": "code",
   "execution_count": 84,
   "metadata": {},
   "outputs": [
    {
     "data": {
      "text/plain": [
       "(891221, 350)"
      ]
     },
     "execution_count": 84,
     "metadata": {},
     "output_type": "execute_result"
    }
   ],
   "source": [
    "azdias.shape"
   ]
  },
  {
   "cell_type": "code",
   "execution_count": 347,
   "metadata": {},
   "outputs": [],
   "source": [
    "azdias.isnull().sum()"
   ]
  },
  {
   "cell_type": "code",
   "execution_count": null,
   "metadata": {},
   "outputs": [],
   "source": []
  },
  {
   "cell_type": "code",
   "execution_count": 273,
   "metadata": {},
   "outputs": [],
   "source": [
    "\"\"\"\n",
    "    Function to use it later to change the customers and other datasets\n",
    "\"\"\"\n",
    "\n",
    "def convert_datasets(df_main, df_attributes, row_thres, col_thres , impute):\n",
    "    \n",
    "    print(\"-\"*100,\"\\n\")\n",
    "    print(\"Making the main dataframe copy \\n\")\n",
    "    df = df_main.copy()\n",
    "    print(\"-\"*100,\"\\n\")\n",
    "    \n",
    "    # ---------------------------------------------------------------------------------------------------setting LNR index\n",
    "    print(\"-\"*100,\"\\n\")\n",
    "    print(\"Setting LNR into as index \\n\")\n",
    "    df.set_index('LNR', inplace = True)\n",
    "    print(\"-\"*100,\"\\n\")\n",
    "    \n",
    "    print(\"-\"*100,\"\\n\")\n",
    "    print(\"Getting the categorical and numerical feature names\\n\")\n",
    "    df_num_columns, df_cats_columns = get_nums_cats(df)\n",
    "    all_df_col_list = df.columns\n",
    "    print(\"-\"*100,\"\\n\")\n",
    "    \n",
    "    \n",
    "    print(\"-\"*100,\"\\n\")\n",
    "    print(\"Getting the attributes list of unknown values \\n\")\n",
    "    description_unkwn = get_unkown_list(df_attributes)\n",
    "    print(\"-\"*100,\"\\n\")\n",
    "    \n",
    "    # -------------------------------------------------------------------------------Removing the mixed attributes elements\n",
    "    print(\"-\"*100,\"\\n\")\n",
    "    print(\"Recoding Xs in null format\\n\")\n",
    "    elem_Xs = ['X', 'XX']\n",
    "    convert_to(df, df_cats_columns, elem_Xs, np.nan)\n",
    "    print(\"-\"*100,\"\\n\")\n",
    "    \n",
    "    # -------------------------------------------------------------------------Converting the mixed attributes into integer\n",
    "    print(\"-\"*100,\"\\n\")\n",
    "    print(\"Converting Mixed attribute elements into Numeric\\n\")\n",
    "    df_mixed_attributes_lst = df.iloc[:,17:19].columns\n",
    "    df_mixed_attributes_lst\n",
    "    \n",
    "    for i in df_mixed_attributes_lst:\n",
    "        temp_cols = [i]\n",
    "        for x in df[i].unique(): \n",
    "            if type(x) == str:\n",
    "                convert_to(df, temp_cols, x, int(x))\n",
    "    \n",
    "    for i in df_mixed_attributes_lst:\n",
    "        if str in df[i].unique():\n",
    "            raise TypeError(\"Only integers are allowed\")\n",
    "    print(\"-\"*100,\"\\n\")    \n",
    "    \n",
    "    # --------------------------------------------------------------------Correcting the misspelled column in the dataframe\n",
    "    print(\"-\"*100,\"\\n\")\n",
    "    print(\"Renaming the 'INTL' to 'DEUINTL'\\n\")\n",
    "    if ('CAMEO_INTL_2015' in df_cats_columns):\n",
    "        df.rename(columns={'CAMEO_INTL_2015': 'CAMEO_DEUINTL_2015'}, inplace=True)\n",
    "        \n",
    "    df_cats_columns = [x.replace('CAMEO_INTL_2015', 'CAMEO_DEUINTL_2015') for x in df_cats_columns]\n",
    "    all_df_col_list = [x.replace('CAMEO_INTL_2015', 'CAMEO_DEUINTL_2015') for x in all_df_col_list]\n",
    "    print(\"-\"*100,\"\\n\")\n",
    "    \n",
    "    # -----------------------------------------------------------------------------Replacing the unknown values into nulls\n",
    "    print(\"-\"*100,\"\\n\")\n",
    "    print(\"Replacing unknown values in given columns to null \\n\")\n",
    "    replace_unknown_to_nulls(df, all_df_col_list, description_unkwn)\n",
    "    print(\"-\"*100,\"\\n\")    \n",
    "    \n",
    "    # ------------------------------------------------------------------------------------------------Dropping the columns\n",
    "    print(\"-\"*100,\"\\n\")\n",
    "    print(\"Dropping the columns which has \" + str(col_thres) + \"% or more of null values \\n\")\n",
    "    should_del_per = col_thres\n",
    "    percent = should_del_per/100\n",
    "    print(\"*\"*100,\"\\n\")\n",
    "    print(\"Shape before\", df.shape)\n",
    "    print(\"*\"*100,\"\\n\")\n",
    "    df.dropna(axis=1, thresh=np.int((1-percent)*(df.shape[0])), inplace=True)\n",
    "    print(\"*\"*100,\"\\n\")\n",
    "    print(\"Shape after\", df.shape)\n",
    "    print(\"*\"*100,\"\\n\")\n",
    "    print(\"-\"*100,\"\\n\")\n",
    "    \n",
    "    # ---------------------------------------------------------------------------------------------------Dropping the rows\n",
    "    print(\"-\"*100,\"\\n\")\n",
    "    print(\"Dropping the rows which has \" + str(row_thres) + \"% or more of null values \\n\")\n",
    "    should_del_per_r = row_thres\n",
    "    percent_row = should_del_per_r/100\n",
    "    print(\"*\"*100,\"\\n\")\n",
    "    print(\"Shape before\", df.shape)\n",
    "    print(\"*\"*100,\"\\n\")\n",
    "    df.dropna(axis=0, thresh=np.int((1-percent_row)*(df.shape[1])), inplace=True)\n",
    "    print(\"*\"*100,\"\\n\")\n",
    "    print(\"Shape after\", df.shape)\n",
    "    print(\"*\"*100,\"\\n\")\n",
    "    print(\"-\"*100,\"\\n\")\n",
    "    \n",
    "    # -------------------------------------------------------------------------------------------Getting the cats and nums\n",
    "    print(\"-\"*100,\"\\n\")\n",
    "    print(\"Getting the categorical and numerical feature names\\n\")\n",
    "    df_num_columns, df_cats_columns = get_nums_cats(df)\n",
    "    all_df_col_list = df.columns\n",
    "    print(\"-\"*100,\"\\n\")\n",
    "    \n",
    "    # ---------------------------------We'll create an empty list to append any features we need to remove from the dataset\n",
    "    to_be_removed = []\n",
    "    \n",
    "    # -------------------------------------------------Encoding the categorical elements into numerical using Label Encoder\n",
    "    print(\"-\"*100,\"\\n\")\n",
    "    print(\"Label Encoding the categorical columns\\n\")\n",
    "    int_encoder = LabelEncoder().fit_transform(df['CAMEO_DEU_2015'].values.tolist())\n",
    "    df['CAMEO_DEU_2015'] = int_encoder\n",
    "    print(\"-\"*100,\"\\n\")\n",
    "    \n",
    "    # ------------------------------------------------------------------------Removing 'REGIOTYPE' and 'KKK' in the dataset\n",
    "    print(\"-\"*100,\"\\n\")\n",
    "    print(\"Removing REGIOTYPE and KKK\\n\")\n",
    "    if 'REGIOTYP' in all_df_col_list:\n",
    "        to_be_removed.append('REGIOTYP')\n",
    "    if 'KKK' in all_df_col_list:\n",
    "        to_be_removed.append('KKK')\n",
    "    print(\"-\"*100,\"\\n\")\n",
    "    \n",
    "    # ----------------------------------------------------------------Adding to to_be_removed list D19_LETZTER_KAUF_BRANCHE\n",
    "    print(\"-\"*100,\"\\n\")\n",
    "    print(\"Adding 'D19_LETZTER_KAUF_BRANCHE' to the to_be_removed list \\n\")\n",
    "    to_be_removed.append('D19_LETZTER_KAUF_BRANCHE')\n",
    "    print(\"-\"*100,\"\\n\")\n",
    "    \n",
    "    # -----------------------------------------------------------------------------------Extracting year from EINGEFUEGT_AM\n",
    "    print(\"-\"*100,\"\\n\")\n",
    "    print(\"Converting EINGEFUEGT_AM into datetime and extracting year\\n\")\n",
    "    df['EINGEFUEGT_AM'] = pd.to_datetime(df['EINGEFUEGT_AM'], format='%Y-%m-%d %H:%M:%S').dt.year\n",
    "    print(\"-\"*100,\"\\n\")\n",
    "    \n",
    "    # ----------------------------------------------------------------------------------------------Converting OST_WEST_KZ\n",
    "    print(\"-\"*100,\"\\n\")\n",
    "    print(\"Converting OST_WEST_KZ from categorical to numerical format\\n\")\n",
    "    df['OST_WEST_KZ'] = df['OST_WEST_KZ'].replace(['W','O'],[0,1])\n",
    "    print(\"-\"*100,\"\\n\")\n",
    "    \n",
    "    print(\"-\"*100,\"\\n\")\n",
    "    print(\"Binning and encoding manually\\n\")\n",
    "    \n",
    "    # ---------------------------------------------------------------------------------------------------Formating\n",
    "    print(\"~\"*60,\"\\n\")\n",
    "    print(\"Recoding ANZ_HAUSHALTE_AKTIV \\n\")\n",
    "    \n",
    "    to_be_removed.append('ANZ_HAUSHALTE_AKTIV')\n",
    "    recode_manual(df, 'ANZ_HAUSHALTE_AKTIV', 50)\n",
    "    print(\"~\"*60,\"\\n\")\n",
    "    \n",
    "    # ---------------------------------------------------------------------------------------------------Formating\n",
    "    print(\"~\"*60,\"\\n\")\n",
    "    print(\"Recoding ANZ_STATISTISCHE_HAUSHALTE  \\n\")\n",
    "    \n",
    "    to_be_removed.append('ANZ_STATISTISCHE_HAUSHALTE')\n",
    "    recode_manual(df, 'ANZ_STATISTISCHE_HAUSHALTE', 100)\n",
    "    print(\"~\"*60,\"\\n\")\n",
    "    \n",
    "    # ---------------------------------------------------------------------------------------------------Formating\n",
    "    print(\"~\"*60,\"\\n\")\n",
    "    print(\"Recoding GEBURTSJAHR \\n\")\n",
    "    \n",
    "    to_be_removed.append('GEBURTSJAHR')\n",
    "    df['GEBURTSJAHR'] = df['GEBURTSJAHR'].replace(0, np.nan)\n",
    "    recode_manual(df, 'GEBURTSJAHR', 10)\n",
    "    df['GEBURTSJAHR_recode'].replace(np.nan, 0, inplace=True)\n",
    "    print(\"~\"*60,\"\\n\")\n",
    "    \n",
    "    # ---------------------------------------------------------------------------------------------------Formating\n",
    "    print(\"~\"*60,\"\\n\")\n",
    "    print(\"Recoding KBA13_ANZAHL_PKW \\n\")\n",
    "    \n",
    "    to_be_removed.append('KBA13_ANZAHL_PKW')\n",
    "    recode_manual(df, 'KBA13_ANZAHL_PKW', 100)\n",
    "    print(\"~\"*60,\"\\n\")\n",
    "    \n",
    "    # ---------------------------------------------------------------------------------------------------Formating\n",
    "    print(\"~\"*60,\"\\n\")\n",
    "    print(\"Recoding MIN_GEBAEUDEJAHR \\n\")\n",
    "    \n",
    "    to_be_removed.append('MIN_GEBAEUDEJAHR')\n",
    "    recode_manual(df, 'MIN_GEBAEUDEJAHR', 5)\n",
    "    print(\"~\"*60,\"\\n\")\n",
    "    \n",
    "    # ---------------------------------------------------------------------------------------------------Formating\n",
    "    print(\"~\"*60,\"\\n\")\n",
    "    print(\"Recoding VERDICHTUNGSRAUM \\n\")\n",
    "    \n",
    "    to_be_removed.append('VERDICHTUNGSRAUM')\n",
    "    recode_manual(df, 'VERDICHTUNGSRAUM', 5)\n",
    "    print(\"~\"*60,\"\\n\")\n",
    "    \n",
    "    # ---------------------------------------------------------------------------------------------------Formating\n",
    "    print(\"*\"*80,\"\\n\")\n",
    "    print(\"Recoding PRAEGENDE_JUGENDJAHRE \\n\")\n",
    "    \n",
    "    to_be_removed.append('PRAEGENDE_JUGENDJAHRE')\n",
    "    df_desc_pj = df_desc[df_desc['Attribute'] == 'PRAEGENDE_JUGENDJAHRE'].copy()\n",
    "    df_desc_pj['Num_Extract'] = df_desc_pj['Meaning'].str.extract('(\\d+)')\n",
    "    df_desc_pj[\"Num_Extract\"] = pd.to_numeric(df_desc_pj[\"Num_Extract\"])\n",
    "    word_list = ['Mainstream', 'Avantgarde']\n",
    "    df_desc_pj['Word_Extract'] = df_desc_pj['Meaning'].str.extract('({})'.format('|'.join(word_list)), \n",
    "                            flags=re.IGNORECASE, expand=False).str.lower().fillna('')\n",
    "    age_dict = df_desc_pj.iloc[1:, :].set_index('Value')['Num_Extract'].to_dict()\n",
    "    pj_word_dict = df_desc_pj.iloc[1:, :].set_index('Value')['Word_Extract'].to_dict()\n",
    "    \n",
    "    # ---------------------------------------------------------------------------------------------------Formating\n",
    "    print(\"~\"*60,\"\\n\")\n",
    "    print(\"Recoding PRAEGENDE_JUGENDJAHRE_age \\n\")\n",
    "    \n",
    "    df['PRAEGENDE_JUGENDJAHRE_age'] = df['PRAEGENDE_JUGENDJAHRE'].map(age_dict)\n",
    "    to_be_removed.append('PRAEGENDE_JUGENDJAHRE_age')\n",
    "    recode_manual(df, 'PRAEGENDE_JUGENDJAHRE_age', 10)\n",
    "    print(\"~\"*60,\"\\n\")\n",
    "    \n",
    "    print(\"*\"*80,\"\\n\")\n",
    "    \n",
    "    # ---------------------------------------------------------------------------------------------------Formating\n",
    "    print(\"~\"*60,\"\\n\")\n",
    "    print(\"Recoding PRAEGENDE_JUGENDJAHRE_word_recode \\n\")\n",
    "    \n",
    "    df['PRAEGENDE_JUGENDJAHRE_word_recode'] = df['PRAEGENDE_JUGENDJAHRE'].map(pj_word_dict)\n",
    "    int_encoder = le.fit_transform(df['PRAEGENDE_JUGENDJAHRE_word_recode'].values.tolist())\n",
    "    df['PRAEGENDE_JUGENDJAHRE_word_recode'] = int_encoder\n",
    "    print(\"~\"*60,\"\\n\")\n",
    "    \n",
    "    # ---------------------------------------------------------------------------------------------------Formating\n",
    "    \n",
    "    \n",
    "    # ---------------------------------------------------------------------------------------------------Dealing with _grob\n",
    "    print(\"~\"*60,\"\\n\")\n",
    "    print(\"Adding the '_grob' from in the 'to_be_removed' list  \\n\")\n",
    "    _grob = df.columns[df.columns.str.endswith(\"_GROB\")]\n",
    "    to_be_removed = list(to_be_removed) + list(_grob)\n",
    "    print(\"~\"*60,\"\\n\")\n",
    "        \n",
    "    \n",
    "    print(\"-\"*100,\"\\n\")\n",
    "    \n",
    "    # ------------------------------------------------------------------------------------------------Dropping to_be_removed\n",
    "    print(\"-\"*100,\"\\n\")\n",
    "    print(\"Dropping to_be_removed list from df\\n\")\n",
    "    df.drop(to_be_removed, axis=1, inplace=True)\n",
    "    print(\"-\"*100,\"\\n\")\n",
    "    \n",
    "    # ------------------------------------------------------------------------------------------------Getting cats and nums\n",
    "    print(\"-\"*100,\"\\n\")\n",
    "    print(\"Getting the categorical and numerical feature names\\n\")\n",
    "    df_num_columns, df_cats_columns = get_nums_cats(df)\n",
    "    all_df_col_list = df.columns\n",
    "    print(\"-\"*100,\"\\n\")\n",
    "    \n",
    "#     # ---------------------------------------------------------------------------------------------------Taking LNR outside\n",
    "#     print(\"-\"*100,\"\\n\")\n",
    "#     print(\"Storing LNR into another dataframe and removing from original \\n\")\n",
    "#     df.reset_index(inplace=True)\n",
    "#     df_LNR = df['LNR'].copy()\n",
    "#     df.drop(['LNR'], axis=1, inplace=True)\n",
    "#     print(\"-\"*100,\"\\n\")\n",
    "        \n",
    "    # -------------------------------------------------------------------------------------------------------------Imputing\n",
    "    print(\"-\"*100,\"\\n\")\n",
    "    print(\"Imputing the data \\n\")\n",
    "    df = pd.DataFrame(impute.fit_transform(df.values), columns= df.columns, index= df.index)\n",
    "#     imputed_df = pd.DataFrame(impute.fit_transform(df.values))\n",
    "#     imputed_df.columns = df.columns\n",
    "#     imputed_df.index = df.index\n",
    "    print(\"-\"*100,\"\\n\")\n",
    "    \n",
    "    print(\"-\"*100,\"\\n\")\n",
    "    print(\"All done \\n\")\n",
    "    print(\"-\"*100,\"\\n\")\n",
    "    \n",
    "#     return df, df_LNR\n",
    "\n",
    "    return df"
   ]
  },
  {
   "cell_type": "code",
   "execution_count": 87,
   "metadata": {},
   "outputs": [],
   "source": [
    "\"\"\"\n",
    "Customers has 3 extra columns. We'll drop them in order to bring consistency in the columns in both the datasets.\n",
    "\"\"\"\n",
    "\n",
    "customers_extra = ['CUSTOMER_GROUP', 'ONLINE_PURCHASE', 'PRODUCT_GROUP']\n",
    "customers.drop(customers_extra, axis=1, inplace=True)"
   ]
  },
  {
   "cell_type": "code",
   "execution_count": 348,
   "metadata": {
    "scrolled": true
   },
   "outputs": [],
   "source": [
    "cus_clean, cus_clean_LNR = convert_datasets(customers, df_desc, 100, 30, imputer)"
   ]
  },
  {
   "cell_type": "code",
   "execution_count": 89,
   "metadata": {},
   "outputs": [
    {
     "data": {
      "text/plain": [
       "(191652, 350)"
      ]
     },
     "execution_count": 89,
     "metadata": {},
     "output_type": "execute_result"
    }
   ],
   "source": [
    "cus_clean.shape"
   ]
  },
  {
   "cell_type": "code",
   "execution_count": 90,
   "metadata": {},
   "outputs": [
    {
     "data": {
      "text/plain": [
       "[]"
      ]
     },
     "execution_count": 90,
     "metadata": {},
     "output_type": "execute_result"
    }
   ],
   "source": [
    "list(set(azdias.columns)-set(cus_clean.columns))"
   ]
  },
  {
   "cell_type": "code",
   "execution_count": 91,
   "metadata": {},
   "outputs": [
    {
     "data": {
      "text/plain": [
       "[]"
      ]
     },
     "execution_count": 91,
     "metadata": {},
     "output_type": "execute_result"
    }
   ],
   "source": [
    "list(set(cus_clean.columns)-set(azdias.columns))"
   ]
  },
  {
   "cell_type": "code",
   "execution_count": 349,
   "metadata": {},
   "outputs": [],
   "source": [
    "cus_clean.isnull().sum()"
   ]
  },
  {
   "cell_type": "markdown",
   "metadata": {},
   "source": [
    "### Scaling the datasets"
   ]
  },
  {
   "cell_type": "code",
   "execution_count": 95,
   "metadata": {},
   "outputs": [],
   "source": [
    "az_rsc = RobustScaler().fit_transform(azdias)\n",
    "cus_rsc = RobustScaler().fit_transform(cus_clean)"
   ]
  },
  {
   "cell_type": "code",
   "execution_count": 93,
   "metadata": {},
   "outputs": [],
   "source": [
    "az_sc = StandardScaler().fit_transform(azdias)\n",
    "cus_sc = StandardScaler().fit_transform(cus_clean)"
   ]
  },
  {
   "cell_type": "code",
   "execution_count": 96,
   "metadata": {},
   "outputs": [],
   "source": [
    "az_minmax_sc = MinMaxScaler().fit_transform(azdias)\n",
    "cus_minmax_sc = MinMaxScaler().fit_transform(cus_clean)"
   ]
  },
  {
   "cell_type": "code",
   "execution_count": null,
   "metadata": {},
   "outputs": [],
   "source": [
    "gc.collect()"
   ]
  },
  {
   "cell_type": "markdown",
   "metadata": {},
   "source": [
    "## Part 1: Customer Segmentation Report\n",
    "\n",
    "The main bulk of your analysis will come in this part of the project. Here, you should use unsupervised learning techniques to describe the relationship between the demographics of the company's existing customers and the general population of Germany. By the end of this part, you should be able to describe parts of the general population that are more likely to be part of the mail-order company's main customer base, and which parts of the general population are less so."
   ]
  },
  {
   "cell_type": "markdown",
   "metadata": {},
   "source": [
    "### Reducing Dimension"
   ]
  },
  {
   "cell_type": "code",
   "execution_count": 94,
   "metadata": {},
   "outputs": [],
   "source": [
    "# PCA\n",
    "def perform_pca(df_scaled, df_main):\n",
    "    pca = PCA(len(df_main.columns))\n",
    "    df_pca = pca.fit(df_scaled)\n",
    "    \n",
    "    for i in np.arange(10, len(df_pca.explained_variance_ratio_), 10):\n",
    "        print('{} components explain {} of variance.'.format(i, df_pca.explained_variance_ratio_[:i].sum()))\n",
    "    \n",
    "    plt.figure(figsize = (15,8))\n",
    "    plt.plot(np.cumsum(df_pca.explained_variance_ratio_), marker='o', linestyle='--')\n",
    "    plt.xlabel('Number of components')\n",
    "    plt.ylabel('Cumulative Explained Variance')\n",
    "    plt.show()\n",
    "    \n",
    "    return df_pca"
   ]
  },
  {
   "cell_type": "code",
   "execution_count": 97,
   "metadata": {},
   "outputs": [
    {
     "name": "stdout",
     "output_type": "stream",
     "text": [
      "10 components explain 0.3741395866218696 of variance.\n",
      "20 components explain 0.4885672478286454 of variance.\n",
      "30 components explain 0.5725343876192036 of variance.\n",
      "40 components explain 0.639713522593659 of variance.\n",
      "50 components explain 0.6937331308366043 of variance.\n",
      "60 components explain 0.7386585039767132 of variance.\n",
      "70 components explain 0.7760827513587526 of variance.\n",
      "80 components explain 0.8082499961336063 of variance.\n",
      "90 components explain 0.8359514101062232 of variance.\n",
      "100 components explain 0.8594076213096937 of variance.\n",
      "110 components explain 0.8792633078491379 of variance.\n",
      "120 components explain 0.896226038615684 of variance.\n",
      "130 components explain 0.9113663651782393 of variance.\n",
      "140 components explain 0.9240067557639758 of variance.\n",
      "150 components explain 0.9346047508833919 of variance.\n",
      "160 components explain 0.9434211576717761 of variance.\n",
      "170 components explain 0.9511457524204184 of variance.\n",
      "180 components explain 0.9578325343493009 of variance.\n",
      "190 components explain 0.9636980133155211 of variance.\n",
      "200 components explain 0.968836447933545 of variance.\n",
      "210 components explain 0.9733588856542664 of variance.\n",
      "220 components explain 0.9772592124759564 of variance.\n",
      "230 components explain 0.980683034660537 of variance.\n",
      "240 components explain 0.9836808802825409 of variance.\n",
      "250 components explain 0.9863842640700258 of variance.\n",
      "260 components explain 0.9888420864189007 of variance.\n",
      "270 components explain 0.9910523150917617 of variance.\n",
      "280 components explain 0.9930399647488987 of variance.\n",
      "290 components explain 0.9947942869809141 of variance.\n",
      "300 components explain 0.9962891604089116 of variance.\n",
      "310 components explain 0.9975626626244405 of variance.\n",
      "320 components explain 0.9986048632428182 of variance.\n",
      "330 components explain 0.9993460540520406 of variance.\n",
      "340 components explain 0.9998417264309375 of variance.\n"
     ]
    },
    {
     "data": {
      "image/png": "[encoded data removed]",
      "text/plain": [
       "<Figure size 1080x576 with 1 Axes>"
      ]
     },
     "metadata": {
      "needs_background": "light"
     },
     "output_type": "display_data"
    }
   ],
   "source": [
    "#--------------------------------------------------------------------------------------------Robust Scaler\n",
    "az_rsc_pca = perform_pca(az_rsc, azdias)"
   ]
  },
  {
   "cell_type": "code",
   "execution_count": 98,
   "metadata": {},
   "outputs": [
    {
     "name": "stdout",
     "output_type": "stream",
     "text": [
      "10 components explain 0.3373941632212266 of variance.\n",
      "20 components explain 0.4432029174344359 of variance.\n",
      "30 components explain 0.513652932915443 of variance.\n",
      "40 components explain 0.5666973793375343 of variance.\n",
      "50 components explain 0.6103411603544119 of variance.\n",
      "60 components explain 0.6474798937767071 of variance.\n",
      "70 components explain 0.6793675755505096 of variance.\n",
      "80 components explain 0.7082590959658471 of variance.\n",
      "90 components explain 0.7345766503043226 of variance.\n",
      "100 components explain 0.759271468569543 of variance.\n",
      "110 components explain 0.7825292930413058 of variance.\n",
      "120 components explain 0.8043990468289444 of variance.\n",
      "130 components explain 0.8249445689601029 of variance.\n",
      "140 components explain 0.8442879955611573 of variance.\n",
      "150 components explain 0.8623961033464526 of variance.\n",
      "160 components explain 0.8791557800755605 of variance.\n",
      "170 components explain 0.8946647079748979 of variance.\n",
      "180 components explain 0.9085715312736946 of variance.\n",
      "190 components explain 0.9205757281851734 of variance.\n",
      "200 components explain 0.9311499563708999 of variance.\n",
      "210 components explain 0.9403853085015272 of variance.\n",
      "220 components explain 0.9487711087254719 of variance.\n",
      "230 components explain 0.9562858223771682 of variance.\n",
      "240 components explain 0.9630462680692562 of variance.\n",
      "250 components explain 0.9690719035532707 of variance.\n",
      "260 components explain 0.9744919057464597 of variance.\n",
      "270 components explain 0.9793061840008235 of variance.\n",
      "280 components explain 0.9834911736227497 of variance.\n",
      "290 components explain 0.9871552866536608 of variance.\n",
      "300 components explain 0.9903969246502379 of variance.\n",
      "310 components explain 0.9932749931917466 of variance.\n",
      "320 components explain 0.9957767260964387 of variance.\n",
      "330 components explain 0.9979253838031511 of variance.\n",
      "340 components explain 0.9994342533101757 of variance.\n"
     ]
    },
    {
     "data": {
      "image/png": "[encoded data removed]",
      "text/plain": [
       "<Figure size 1080x576 with 1 Axes>"
      ]
     },
     "metadata": {
      "needs_background": "light"
     },
     "output_type": "display_data"
    }
   ],
   "source": [
    "#--------------------------------------------------------------------------------------------Standard Scaler\n",
    "az_sc_pca = perform_pca(az_sc, azdias)"
   ]
  },
  {
   "cell_type": "code",
   "execution_count": 99,
   "metadata": {},
   "outputs": [
    {
     "name": "stdout",
     "output_type": "stream",
     "text": [
      "10 components explain 0.39210129439634683 of variance.\n",
      "20 components explain 0.49432117926261815 of variance.\n",
      "30 components explain 0.5587574335439899 of variance.\n",
      "40 components explain 0.6095206550515282 of variance.\n",
      "50 components explain 0.6518364822137939 of variance.\n",
      "60 components explain 0.6886933054032457 of variance.\n",
      "70 components explain 0.720934929904388 of variance.\n",
      "80 components explain 0.7498930695329721 of variance.\n",
      "90 components explain 0.776401630605671 of variance.\n",
      "100 components explain 0.8004015775869696 of variance.\n",
      "110 components explain 0.8221206344554854 of variance.\n",
      "120 components explain 0.8417407245942324 of variance.\n",
      "130 components explain 0.8595267011740569 of variance.\n",
      "140 components explain 0.8760863876449425 of variance.\n",
      "150 components explain 0.891368179263349 of variance.\n",
      "160 components explain 0.9052371393159756 of variance.\n",
      "170 components explain 0.9176853341211862 of variance.\n",
      "180 components explain 0.9286577675585198 of variance.\n",
      "190 components explain 0.938568839337587 of variance.\n",
      "200 components explain 0.9475832528203623 of variance.\n",
      "210 components explain 0.9556976209656863 of variance.\n",
      "220 components explain 0.963006174900031 of variance.\n",
      "230 components explain 0.9694604859264713 of variance.\n",
      "240 components explain 0.9749548229884561 of variance.\n",
      "250 components explain 0.9797998560749173 of variance.\n",
      "260 components explain 0.9839642602302099 of variance.\n",
      "270 components explain 0.9875710857641024 of variance.\n",
      "280 components explain 0.9906447108659828 of variance.\n",
      "290 components explain 0.9931876077538586 of variance.\n",
      "300 components explain 0.9952918051765307 of variance.\n",
      "310 components explain 0.9971075911485824 of variance.\n",
      "320 components explain 0.9985340455942909 of variance.\n",
      "330 components explain 0.9994480288916022 of variance.\n",
      "340 components explain 0.9998969784989984 of variance.\n"
     ]
    },
    {
     "data": {
      "image/png": "[encoded data removed]",
      "text/plain": [
       "<Figure size 1080x576 with 1 Axes>"
      ]
     },
     "metadata": {
      "needs_background": "light"
     },
     "output_type": "display_data"
    }
   ],
   "source": [
    "#--------------------------------------------------------------------------------------------MinMax Scaler\n",
    "az_minmax_sc_pca = perform_pca(az_minmax_sc, azdias)"
   ]
  },
  {
   "cell_type": "markdown",
   "metadata": {},
   "source": [
    "\n",
    "    RobustScaler -> 85% with 100 components\n",
    "    StandardScaler -> 85% with 150 components\n",
    "    MinMaxScaler -> 85% with 130 components\n"
   ]
  },
  {
   "cell_type": "markdown",
   "metadata": {},
   "source": [
    "Let's calculate important features"
   ]
  },
  {
   "cell_type": "code",
   "execution_count": 100,
   "metadata": {},
   "outputs": [],
   "source": [
    "def pca_df_generator(df_pca):\n",
    "    \n",
    "    index_lst = []\n",
    "    for i in range(1,len(df_pca.components_)+1):\n",
    "        temp_str = 'PC-'+str(i)\n",
    "        index_lst.append(temp_str)\n",
    "        \n",
    "    pca_az_df = pd.DataFrame(df_pca.components_, columns=azdias.columns, index = index_lst)\n",
    "    \n",
    "    return pca_az_df"
   ]
  },
  {
   "cell_type": "code",
   "execution_count": 101,
   "metadata": {},
   "outputs": [],
   "source": [
    "# comp = Number of PC components we want eg only PC-1 then 1 (int); PC-1 and PC-2 then 2\n",
    "# imp = number of important features we want from that PC eg 5 for 5 important features\n",
    "def imp_pca_feat(df, comp_number, imp):\n",
    "    \n",
    "    for i in range(comp_number):\n",
    "        comp_num = i+1\n",
    "        which_pc_str = \"PC-\"+str(comp_num)\n",
    "\n",
    "        temp_df = df.iloc[comp_num-1:comp_num, :].sort_values(by=which_pc_str, axis=1, ascending=False)\n",
    "\n",
    "        last_5_df = temp_df.iloc[:,-imp:]\n",
    "        first_5_df = temp_df.iloc[:,:imp]\n",
    "\n",
    "        pca_az_df = pd.concat([first_5_df, last_5_df], axis=1).T\n",
    "\n",
    "        pca_az_df.plot(kind='bar', \n",
    "                          title='{} most important features and least important for PCA component {}'.format(imp, comp_num),\n",
    "                          figsize=(12, 6))\n",
    "        plt.show()"
   ]
  },
  {
   "cell_type": "code",
   "execution_count": 102,
   "metadata": {},
   "outputs": [],
   "source": [
    "az_sc_pca_df = pca_df_generator(az_sc_pca)\n",
    "az_rsc_pca_df = pca_df_generator(az_rsc_pca)\n",
    "az_minmax_pca_df = pca_df_generator(az_minmax_sc_pca)"
   ]
  },
  {
   "cell_type": "code",
   "execution_count": 103,
   "metadata": {},
   "outputs": [
    {
     "data": {
      "image/png": "[encoded data removed]",
      "text/plain": [
       "<Figure size 864x432 with 1 Axes>"
      ]
     },
     "metadata": {
      "needs_background": "light"
     },
     "output_type": "display_data"
    }
   ],
   "source": [
    "#--------------------------------------------------------------------------------------------------------Standard Scalar\n",
    "imp_pca_feat(az_sc_pca_df, 1, 5)"
   ]
  },
  {
   "cell_type": "code",
   "execution_count": 104,
   "metadata": {
    "scrolled": false
   },
   "outputs": [
    {
     "data": {
      "image/png": "[encoded data removed]",
      "text/plain": [
       "<Figure size 864x432 with 1 Axes>"
      ]
     },
     "metadata": {
      "needs_background": "light"
     },
     "output_type": "display_data"
    }
   ],
   "source": [
    "#--------------------------------------------------------------------------------------------Robust Scaler\n",
    "imp_pca_feat(az_rsc_pca_df, 1, 5)"
   ]
  },
  {
   "cell_type": "code",
   "execution_count": 105,
   "metadata": {},
   "outputs": [
    {
     "data": {
      "image/png": "[encoded data removed]",
      "text/plain": [
       "<Figure size 864x432 with 1 Axes>"
      ]
     },
     "metadata": {
      "needs_background": "light"
     },
     "output_type": "display_data"
    }
   ],
   "source": [
    "#--------------------------------------------------------------------------------------------MinMax Scaler\n",
    "imp_pca_feat(az_minmax_pca_df, 1, 5)"
   ]
  },
  {
   "cell_type": "markdown",
   "metadata": {},
   "source": [
    "Looking at the visualization and the number of components having data variance, we'll chose StandardScaler version with 150 components which has 85% of data.\n",
    "\n",
    "We can change this later to check the if the model performs better."
   ]
  },
  {
   "cell_type": "code",
   "execution_count": 107,
   "metadata": {},
   "outputs": [],
   "source": [
    "pca = PCA(150)\n",
    "az_sc_pca = pca.fit_transform(az_sc)"
   ]
  },
  {
   "cell_type": "code",
   "execution_count": 108,
   "metadata": {},
   "outputs": [],
   "source": [
    "cus_sc_pca = pca.transform(cus_sc)"
   ]
  },
  {
   "cell_type": "markdown",
   "metadata": {},
   "source": [
    "### Performing Clustering"
   ]
  },
  {
   "cell_type": "code",
   "execution_count": 110,
   "metadata": {
    "scrolled": true
   },
   "outputs": [
    {
     "name": "stdout",
     "output_type": "stream",
     "text": [
      "With clusters: 1\n",
      "Done 1\n",
      "\n",
      "With clusters: 2\n",
      "Done 2\n",
      "\n",
      "With clusters: 3\n",
      "Done 3\n",
      "\n",
      "With clusters: 4\n",
      "Done 4\n",
      "\n",
      "With clusters: 5\n",
      "Done 5\n",
      "\n",
      "With clusters: 6\n",
      "Done 6\n",
      "\n",
      "With clusters: 7\n",
      "Done 7\n",
      "\n",
      "With clusters: 8\n",
      "Done 8\n",
      "\n",
      "With clusters: 9\n",
      "Done 9\n",
      "\n",
      "With clusters: 10\n",
      "Done 10\n",
      "\n",
      "With clusters: 11\n",
      "Done 11\n",
      "\n",
      "With clusters: 12\n",
      "Done 12\n",
      "\n",
      "With clusters: 13\n",
      "Done 13\n",
      "\n",
      "With clusters: 14\n",
      "Done 14\n",
      "\n",
      "With clusters: 15\n",
      "Done 15\n",
      "\n",
      "With clusters: 16\n",
      "Done 16\n",
      "\n",
      "With clusters: 17\n",
      "Done 17\n",
      "\n",
      "With clusters: 18\n",
      "Done 18\n",
      "\n",
      "With clusters: 19\n",
      "Done 19\n",
      "\n"
     ]
    }
   ],
   "source": [
    "wcss = []\n",
    "for i in range(1,20):\n",
    "    print(\"With clusters: \"+str(i))\n",
    "    kmeans_pca = KMeans(n_clusters=i, random_state=77)\n",
    "    kmeans_pca.fit(az_sc_pca)\n",
    "    wcss.append(kmeans_pca.inertia_)\n",
    "    print(\"Done \"+str(i))\n",
    "    print()"
   ]
  },
  {
   "cell_type": "code",
   "execution_count": 111,
   "metadata": {},
   "outputs": [
    {
     "data": {
      "image/png": "[encoded data removed]",
      "text/plain": [
       "<Figure size 720x576 with 1 Axes>"
      ]
     },
     "metadata": {
      "needs_background": "light"
     },
     "output_type": "display_data"
    }
   ],
   "source": [
    "plt.figure(figsize = (10,8))\n",
    "plt.plot(range(1,20), wcss, marker='o', linestyle='--')\n",
    "plt.xlabel('Number of clusters')\n",
    "plt.ylabel('WCSS')\n",
    "plt.show()"
   ]
  },
  {
   "cell_type": "code",
   "execution_count": 172,
   "metadata": {},
   "outputs": [
    {
     "data": {
      "text/plain": [
       "KMeans(n_clusters=9)"
      ]
     },
     "execution_count": 172,
     "metadata": {},
     "output_type": "execute_result"
    }
   ],
   "source": [
    "km_model = KMeans(n_clusters=9)\n",
    "km_model.fit(az_sc_pca)"
   ]
  },
  {
   "cell_type": "code",
   "execution_count": 176,
   "metadata": {},
   "outputs": [
    {
     "data": {
      "text/plain": [
       "array([8, 4, 4, ..., 4, 5, 1])"
      ]
     },
     "execution_count": 176,
     "metadata": {},
     "output_type": "execute_result"
    }
   ],
   "source": [
    "km_model_az = km_model.predict(az_sc_pca)\n",
    "km_model_az"
   ]
  },
  {
   "cell_type": "code",
   "execution_count": 177,
   "metadata": {},
   "outputs": [
    {
     "data": {
      "text/plain": [
       "array([1, 2, 2, ..., 2, 6, 0])"
      ]
     },
     "execution_count": 177,
     "metadata": {},
     "output_type": "execute_result"
    }
   ],
   "source": [
    "km_model_cus = km_model.predict(cus_sc_pca)\n",
    "km_model_cus"
   ]
  },
  {
   "cell_type": "code",
   "execution_count": 178,
   "metadata": {},
   "outputs": [],
   "source": [
    "def show_cluster_imp(arr, dataset_str):\n",
    "    customer_class = pd.Series(arr).value_counts()\n",
    "\n",
    "    class_customers = pd.DataFrame({'cluster': customer_class.index, '% of data': 100*customer_class.values/len(arr)})\n",
    "    class_customers['data'] = dataset_str\n",
    "    \n",
    "    return class_customers"
   ]
  },
  {
   "cell_type": "code",
   "execution_count": 179,
   "metadata": {},
   "outputs": [
    {
     "data": {
      "text/html": [
       "<div>\n",
       "<style scoped>\n",
       "    .dataframe tbody tr th:only-of-type {\n",
       "        vertical-align: middle;\n",
       "    }\n",
       "\n",
       "    .dataframe tbody tr th {\n",
       "        vertical-align: top;\n",
       "    }\n",
       "\n",
       "    .dataframe thead th {\n",
       "        text-align: right;\n",
       "    }\n",
       "</style>\n",
       "<table border=\"1\" class=\"dataframe\">\n",
       "  <thead>\n",
       "    <tr style=\"text-align: right;\">\n",
       "      <th></th>\n",
       "      <th>cluster</th>\n",
       "      <th>% of data</th>\n",
       "      <th>data</th>\n",
       "    </tr>\n",
       "  </thead>\n",
       "  <tbody>\n",
       "    <tr>\n",
       "      <th>0</th>\n",
       "      <td>0</td>\n",
       "      <td>14.173813</td>\n",
       "      <td>population</td>\n",
       "    </tr>\n",
       "    <tr>\n",
       "      <th>1</th>\n",
       "      <td>4</td>\n",
       "      <td>13.927746</td>\n",
       "      <td>population</td>\n",
       "    </tr>\n",
       "    <tr>\n",
       "      <th>2</th>\n",
       "      <td>1</td>\n",
       "      <td>13.787265</td>\n",
       "      <td>population</td>\n",
       "    </tr>\n",
       "    <tr>\n",
       "      <th>3</th>\n",
       "      <td>2</td>\n",
       "      <td>12.622010</td>\n",
       "      <td>population</td>\n",
       "    </tr>\n",
       "    <tr>\n",
       "      <th>4</th>\n",
       "      <td>5</td>\n",
       "      <td>11.246705</td>\n",
       "      <td>population</td>\n",
       "    </tr>\n",
       "    <tr>\n",
       "      <th>5</th>\n",
       "      <td>8</td>\n",
       "      <td>8.763146</td>\n",
       "      <td>population</td>\n",
       "    </tr>\n",
       "    <tr>\n",
       "      <th>6</th>\n",
       "      <td>7</td>\n",
       "      <td>8.583954</td>\n",
       "      <td>population</td>\n",
       "    </tr>\n",
       "    <tr>\n",
       "      <th>7</th>\n",
       "      <td>3</td>\n",
       "      <td>8.556239</td>\n",
       "      <td>population</td>\n",
       "    </tr>\n",
       "    <tr>\n",
       "      <th>8</th>\n",
       "      <td>6</td>\n",
       "      <td>8.339121</td>\n",
       "      <td>population</td>\n",
       "    </tr>\n",
       "  </tbody>\n",
       "</table>\n",
       "</div>"
      ],
      "text/plain": [
       "   cluster  % of data        data\n",
       "0        0  14.173813  population\n",
       "1        4  13.927746  population\n",
       "2        1  13.787265  population\n",
       "3        2  12.622010  population\n",
       "4        5  11.246705  population\n",
       "5        8   8.763146  population\n",
       "6        7   8.583954  population\n",
       "7        3   8.556239  population\n",
       "8        6   8.339121  population"
      ]
     },
     "execution_count": 179,
     "metadata": {},
     "output_type": "execute_result"
    }
   ],
   "source": [
    "az_clusters = show_cluster_imp(km_model_az, 'population')\n",
    "az_clusters"
   ]
  },
  {
   "cell_type": "code",
   "execution_count": 180,
   "metadata": {},
   "outputs": [
    {
     "data": {
      "text/html": [
       "<div>\n",
       "<style scoped>\n",
       "    .dataframe tbody tr th:only-of-type {\n",
       "        vertical-align: middle;\n",
       "    }\n",
       "\n",
       "    .dataframe tbody tr th {\n",
       "        vertical-align: top;\n",
       "    }\n",
       "\n",
       "    .dataframe thead th {\n",
       "        text-align: right;\n",
       "    }\n",
       "</style>\n",
       "<table border=\"1\" class=\"dataframe\">\n",
       "  <thead>\n",
       "    <tr style=\"text-align: right;\">\n",
       "      <th></th>\n",
       "      <th>cluster</th>\n",
       "      <th>% of data</th>\n",
       "      <th>data</th>\n",
       "    </tr>\n",
       "  </thead>\n",
       "  <tbody>\n",
       "    <tr>\n",
       "      <th>0</th>\n",
       "      <td>8</td>\n",
       "      <td>23.753470</td>\n",
       "      <td>customer</td>\n",
       "    </tr>\n",
       "    <tr>\n",
       "      <th>1</th>\n",
       "      <td>1</td>\n",
       "      <td>14.731910</td>\n",
       "      <td>customer</td>\n",
       "    </tr>\n",
       "    <tr>\n",
       "      <th>2</th>\n",
       "      <td>0</td>\n",
       "      <td>13.991505</td>\n",
       "      <td>customer</td>\n",
       "    </tr>\n",
       "    <tr>\n",
       "      <th>3</th>\n",
       "      <td>7</td>\n",
       "      <td>12.676100</td>\n",
       "      <td>customer</td>\n",
       "    </tr>\n",
       "    <tr>\n",
       "      <th>4</th>\n",
       "      <td>2</td>\n",
       "      <td>12.630706</td>\n",
       "      <td>customer</td>\n",
       "    </tr>\n",
       "    <tr>\n",
       "      <th>5</th>\n",
       "      <td>6</td>\n",
       "      <td>6.926617</td>\n",
       "      <td>customer</td>\n",
       "    </tr>\n",
       "    <tr>\n",
       "      <th>6</th>\n",
       "      <td>5</td>\n",
       "      <td>6.612506</td>\n",
       "      <td>customer</td>\n",
       "    </tr>\n",
       "    <tr>\n",
       "      <th>7</th>\n",
       "      <td>4</td>\n",
       "      <td>5.106130</td>\n",
       "      <td>customer</td>\n",
       "    </tr>\n",
       "    <tr>\n",
       "      <th>8</th>\n",
       "      <td>3</td>\n",
       "      <td>3.571056</td>\n",
       "      <td>customer</td>\n",
       "    </tr>\n",
       "  </tbody>\n",
       "</table>\n",
       "</div>"
      ],
      "text/plain": [
       "   cluster  % of data      data\n",
       "0        8  23.753470  customer\n",
       "1        1  14.731910  customer\n",
       "2        0  13.991505  customer\n",
       "3        7  12.676100  customer\n",
       "4        2  12.630706  customer\n",
       "5        6   6.926617  customer\n",
       "6        5   6.612506  customer\n",
       "7        4   5.106130  customer\n",
       "8        3   3.571056  customer"
      ]
     },
     "execution_count": 180,
     "metadata": {},
     "output_type": "execute_result"
    }
   ],
   "source": [
    "cus_clusters = show_cluster_imp(km_model_cus, 'customer')\n",
    "cus_clusters"
   ]
  },
  {
   "cell_type": "code",
   "execution_count": 181,
   "metadata": {},
   "outputs": [
    {
     "data": {
      "image/png": "[encoded data removed]",
      "text/plain": [
       "<Figure size 1080x576 with 1 Axes>"
      ]
     },
     "metadata": {
      "needs_background": "light"
     },
     "output_type": "display_data"
    }
   ],
   "source": [
    "plt.figure(figsize=(15, 8))\n",
    "sns.barplot(x=\"cluster\", y=\"% of data\", hue=\"data\",\n",
    "            data=pd.concat([cus_clusters, az_clusters]))\n",
    "plt.xlabel('Cluster', fontsize=16)\n",
    "plt.ylabel('% of data', fontsize=16)\n",
    "plt.title('Comparing Customer Data to Demographic Data', fontsize=20)\n",
    "plt.legend(fontsize=16)\n",
    "plt.show()"
   ]
  },
  {
   "cell_type": "markdown",
   "metadata": {},
   "source": [
    "## Part 2: Supervised Learning Model\n",
    "\n",
    "Now that you've found which parts of the population are more likely to be customers of the mail-order company, it's time to build a prediction model. Each of the rows in the \"MAILOUT\" data files represents an individual that was targeted for a mailout campaign. Ideally, we should be able to use the demographic information from each individual to decide whether or not it will be worth it to include that person in the campaign.\n",
    "\n",
    "The \"MAILOUT\" data has been split into two approximately equal parts, each with almost 43 000 data rows. In this part, you can verify your model with the \"TRAIN\" partition, which includes a column, \"RESPONSE\", that states whether or not a person became a customer of the company following the campaign. In the next part, you'll need to create predictions on the \"TEST\" partition, where the \"RESPONSE\" column has been withheld."
   ]
  },
  {
   "cell_type": "code",
   "execution_count": 182,
   "metadata": {},
   "outputs": [],
   "source": [
    "from sklearn.utils import resample\n",
    "from imblearn.over_sampling import SMOTE\n",
    "\n",
    "from sklearn.model_selection import train_test_split, GridSearchCV\n",
    "\n",
    "from sklearn.linear_model import LogisticRegression\n",
    "from sklearn.ensemble import RandomForestClassifier, GradientBoostingClassifier\n",
    "from xgboost import XGBClassifier\n",
    "from lightgbm import LGBMClassifier\n",
    "\n",
    "from sklearn.metrics import roc_auc_score, confusion_matrix, accuracy_score, classification_report, roc_curve, auc\n",
    "from sklearn.metrics import mean_squared_error, log_loss, f1_score, precision_score, recall_score, r2_score\n",
    "\n",
    "from tabulate import tabulate"
   ]
  },
  {
   "cell_type": "code",
   "execution_count": 350,
   "metadata": {},
   "outputs": [],
   "source": [
    "mailout_train = pd.read_csv('./mailout_train.csv').drop(['Unnamed: 0'], axis=1)\n",
    "mailout_train.head()"
   ]
  },
  {
   "cell_type": "code",
   "execution_count": 351,
   "metadata": {},
   "outputs": [],
   "source": [
    "mailout_test = pd.read_csv('./mailout_test.csv').drop(['Unnamed: 0'], axis=1)\n",
    "mailout_test.head()"
   ]
  },
  {
   "cell_type": "code",
   "execution_count": 185,
   "metadata": {},
   "outputs": [],
   "source": [
    "# Response values\n",
    "cout = mailout_train.RESPONSE.value_counts(dropna=False)\n",
    "customer_response = pd.DataFrame({'RESPONSE': cout.index, '% of data': cout.values})\n",
    "customer_response['% of data'] = 100*customer_response['% of data']/mailout_train.shape[0]"
   ]
  },
  {
   "cell_type": "code",
   "execution_count": 195,
   "metadata": {},
   "outputs": [
    {
     "data": {
      "text/plain": [
       "0    98.761696\n",
       "1     1.238304\n",
       "Name: RESPONSE, dtype: float64"
      ]
     },
     "execution_count": 195,
     "metadata": {},
     "output_type": "execute_result"
    }
   ],
   "source": [
    "(mailout_train['RESPONSE'].value_counts()/mailout_train.shape[0] *100)"
   ]
  },
  {
   "cell_type": "code",
   "execution_count": 186,
   "metadata": {},
   "outputs": [
    {
     "data": {
      "image/png": "[encoded data removed]",
      "text/plain": [
       "<Figure size 576x432 with 1 Axes>"
      ]
     },
     "metadata": {
      "needs_background": "light"
     },
     "output_type": "display_data"
    }
   ],
   "source": [
    "plt.figure(figsize=(8, 6))\n",
    "sns.barplot(x=\"RESPONSE\", y=\"% of data\", data=customer_response)\n",
    "plt.rc('xtick', labelsize=25)  \n",
    "plt.rc('ytick', labelsize=25)\n",
    "plt.xlabel('RESPONSE', fontsize=15)\n",
    "plt.ylabel('% of data', fontsize=15)\n",
    "plt.title('Distribution of customers responses', fontsize=15)\n",
    "plt.show()"
   ]
  },
  {
   "cell_type": "code",
   "execution_count": 203,
   "metadata": {},
   "outputs": [
    {
     "name": "stdout",
     "output_type": "stream",
     "text": [
      "42936 is the number of columns which has NaN entries more than or equal to 0% of total of 42962 entries\n",
      "8770 is the number of columns which has NaN entries more than or equal to 10% of total of 42962 entries\n",
      "8161 is the number of columns which has NaN entries more than or equal to 20% of total of 42962 entries\n",
      "7962 is the number of columns which has NaN entries more than or equal to 30% of total of 42962 entries\n",
      "7863 is the number of columns which has NaN entries more than or equal to 40% of total of 42962 entries\n",
      "7862 is the number of columns which has NaN entries more than or equal to 50% of total of 42962 entries\n",
      "7776 is the number of columns which has NaN entries more than or equal to 60% of total of 42962 entries\n",
      "0 is the number of columns which has NaN entries more than or equal to 70% of total of 42962 entries\n",
      "0 is the number of columns which has NaN entries more than or equal to 80% of total of 42962 entries\n",
      "0 is the number of columns which has NaN entries more than or equal to 90% of total of 42962 entries\n",
      "0 is the number of columns which has NaN entries more than or equal to 100% of total of 42962 entries\n"
     ]
    }
   ],
   "source": [
    "percentage_bins = [0,10,20,30,40,50,60,70,80,90,100]\n",
    "percentage_nulls(percentage_bins, 0, mailout_train, 'columns')"
   ]
  },
  {
   "cell_type": "code",
   "execution_count": 204,
   "metadata": {},
   "outputs": [
    {
     "name": "stdout",
     "output_type": "stream",
     "text": [
      "42813 is the number of columns which has NaN entries more than or equal to 0% of total of 42833 entries\n",
      "8673 is the number of columns which has NaN entries more than or equal to 10% of total of 42833 entries\n",
      "8033 is the number of columns which has NaN entries more than or equal to 20% of total of 42833 entries\n",
      "7841 is the number of columns which has NaN entries more than or equal to 30% of total of 42833 entries\n",
      "7723 is the number of columns which has NaN entries more than or equal to 40% of total of 42833 entries\n",
      "7722 is the number of columns which has NaN entries more than or equal to 50% of total of 42833 entries\n",
      "7627 is the number of columns which has NaN entries more than or equal to 60% of total of 42833 entries\n",
      "1 is the number of columns which has NaN entries more than or equal to 70% of total of 42833 entries\n",
      "0 is the number of columns which has NaN entries more than or equal to 80% of total of 42833 entries\n",
      "0 is the number of columns which has NaN entries more than or equal to 90% of total of 42833 entries\n",
      "0 is the number of columns which has NaN entries more than or equal to 100% of total of 42833 entries\n"
     ]
    }
   ],
   "source": [
    "percentage_nulls(percentage_bins, 0, mailout_test, 'columns')"
   ]
  },
  {
   "cell_type": "markdown",
   "metadata": {},
   "source": [
    "## NOTE\n",
    "\n",
    "As we can see that the dataset is highly imbalanced. We can deal with this in three ways\n",
    "\n",
    "    1. Use AUC-ROC, F1 score, Recall score as our performance metrics\n",
    "    2. Use tree-based classification algorithms\n",
    "    3. Use Over-Sampling/Under-Sampling/SMOTE to balance the data\n",
    "    \n",
    "    \n",
    "https://elitedatascience.com/imbalanced-classes\n",
    "\n",
    "https://towardsdatascience.com/methods-for-dealing-with-imbalanced-data-5b761be45a18"
   ]
  },
  {
   "cell_type": "markdown",
   "metadata": {},
   "source": [
    "#### Splitting the dataset into features and target"
   ]
  },
  {
   "cell_type": "code",
   "execution_count": 352,
   "metadata": {},
   "outputs": [],
   "source": [
    "mailout_train_clean = convert_datasets(mailout_train, df_desc, 10, 30, imputer)"
   ]
  },
  {
   "cell_type": "code",
   "execution_count": 275,
   "metadata": {},
   "outputs": [],
   "source": [
    "y = mailout_train_clean[['RESPONSE']]\n",
    "X = mailout_train_clean.drop(['RESPONSE'], axis=1)"
   ]
  },
  {
   "cell_type": "code",
   "execution_count": 276,
   "metadata": {},
   "outputs": [
    {
     "data": {
      "text/plain": [
       "((33836, 350), (33836, 1))"
      ]
     },
     "execution_count": 276,
     "metadata": {},
     "output_type": "execute_result"
    }
   ],
   "source": [
    "X.shape, y.shape"
   ]
  },
  {
   "cell_type": "code",
   "execution_count": 278,
   "metadata": {},
   "outputs": [
    {
     "data": {
      "text/plain": [
       "0.0    33420\n",
       "1.0      416\n",
       "Name: RESPONSE, dtype: int64"
      ]
     },
     "execution_count": 278,
     "metadata": {},
     "output_type": "execute_result"
    }
   ],
   "source": [
    "y['RESPONSE'].value_counts()"
   ]
  },
  {
   "cell_type": "code",
   "execution_count": 279,
   "metadata": {},
   "outputs": [],
   "source": [
    "X_sc = StandardScaler().fit_transform(X)\n",
    "X_sc = pd.DataFrame(X_sc, index=X.index, columns=X.columns)"
   ]
  },
  {
   "cell_type": "code",
   "execution_count": 281,
   "metadata": {},
   "outputs": [],
   "source": [
    "X_rsc = RobustScaler().fit_transform(X)\n",
    "X_rsc = pd.DataFrame(X_rsc, index=X.index, columns=X.columns)"
   ]
  },
  {
   "cell_type": "code",
   "execution_count": 282,
   "metadata": {},
   "outputs": [],
   "source": [
    "X_msc = MinMaxScaler().fit_transform(X)\n",
    "X_msc = pd.DataFrame(X_msc, index=X.index, columns=X.columns)"
   ]
  },
  {
   "cell_type": "code",
   "execution_count": 283,
   "metadata": {},
   "outputs": [
    {
     "data": {
      "text/plain": [
       "((33836, 350), (33836, 350), (33836, 350))"
      ]
     },
     "execution_count": 283,
     "metadata": {},
     "output_type": "execute_result"
    }
   ],
   "source": [
    "X_sc.shape, X_rsc.shape, X_msc.shape"
   ]
  },
  {
   "cell_type": "code",
   "execution_count": 353,
   "metadata": {},
   "outputs": [],
   "source": [
    "mailout_test_clean = convert_datasets(mailout_test, df_desc, 10, 30, imputer)"
   ]
  },
  {
   "cell_type": "code",
   "execution_count": 354,
   "metadata": {},
   "outputs": [],
   "source": [
    "mlts_sc = StandardScaler().fit_transform(mailout_test_clean)\n",
    "mlts_sc = pd.DataFrame(mlts_sc, index=mailout_test_clean.index, columns=mailout_test_clean.columns)\n",
    "\n",
    "mlts_sc.head()"
   ]
  },
  {
   "cell_type": "code",
   "execution_count": 286,
   "metadata": {},
   "outputs": [
    {
     "data": {
      "text/plain": [
       "(33818, 350)"
      ]
     },
     "execution_count": 286,
     "metadata": {},
     "output_type": "execute_result"
    }
   ],
   "source": [
    "mlts_sc.shape"
   ]
  },
  {
   "cell_type": "code",
   "execution_count": null,
   "metadata": {},
   "outputs": [],
   "source": []
  },
  {
   "cell_type": "code",
   "execution_count": 288,
   "metadata": {},
   "outputs": [],
   "source": [
    "# X_train_merged = pd.concat([X_train, y_train], axis=1)"
   ]
  },
  {
   "cell_type": "markdown",
   "metadata": {},
   "source": [
    "#### SMOTE Function"
   ]
  },
  {
   "cell_type": "code",
   "execution_count": 289,
   "metadata": {},
   "outputs": [],
   "source": [
    "# def ou_sample_data(x):\n",
    "#     # Separate majority and minority classes\n",
    "#     x_majority = x[x['RESPONSE']==0]\n",
    "#     x_minority = x[x['RESPONSE']==1]\n",
    "    \n",
    "#     print(\"-\"*40)\n",
    "#     print(\"\\n Up Sampling Start\")\n",
    "#     # Upsample minority class\n",
    "#     x_upsampled = resample(x_minority,\n",
    "#                             replace=True,\n",
    "#                             n_samples=(int(x_majority.shape[0])),\n",
    "#                             random_state=0)\n",
    "\n",
    "#     # Combine majority class with upsampled minority class\n",
    "#     upsampled = pd.concat([x_majority, x_upsampled])\n",
    "\n",
    "#     # Display new class counts\n",
    "#     print(upsampled['RESPONSE'].value_counts())\n",
    "#     print(\"\\n UpSampling Done\")\n",
    "#     print(\"-\"*40)\n",
    "    \n",
    "    \n",
    "#     print(\"-\"*40)\n",
    "#     print(\"\\n Down Sampling Start\")\n",
    "#     # Downsample majority class\n",
    "#     x_downsampled = resample(x_majority,\n",
    "#                             replace=False,\n",
    "#                             n_samples=(int(x_minority.shape[0])),\n",
    "#                             random_state=0)\n",
    "\n",
    "#     # Combine minority class with downsampled majority class\n",
    "#     downsampled = pd.concat([x_downsampled, x_minority])\n",
    "\n",
    "#     # Display new class counts\n",
    "#     print(downsampled['RESPONSE'].value_counts())\n",
    "#     print(\"\\n Down Sampling Done\")\n",
    "#     print(\"-\"*40)\n",
    "    \n",
    "    \n",
    "#     print(\"-\"*40)\n",
    "#     print(\"\\n MixUp Sampling Start\")\n",
    "#     # Upsample minority class\n",
    "#     x_upsampled = resample(x_minority,\n",
    "#                             replace=True,\n",
    "#                             n_samples=(int(x_majority.shape[0]*0.5)),\n",
    "#                             random_state=0)\n",
    "\n",
    "#     # Combine majority class with upsampled minority class\n",
    "#     mixupsampled = pd.concat([x_majority, x_upsampled])\n",
    "    \n",
    "    \n",
    "#     x_up_majority = mixupsampled[mixupsampled['RESPONSE']==0]\n",
    "#     x_up_minority = mixupsampled[mixupsampled['RESPONSE']==1]\n",
    "\n",
    "#     print(\"-\"*40)\n",
    "#     print(\"\\n Mixdown Sampling Start\")\n",
    "#     # Downsample majority class\n",
    "#     x_mixed = resample(x_up_majority,\n",
    "#                             replace=False,\n",
    "#                             n_samples=(int(x_up_minority.shape[0])),\n",
    "#                             random_state=0)\n",
    "\n",
    "#     # Combine minority class with downsampled majority class\n",
    "#     mixed = pd.concat([x_mixed, x_up_minority])\n",
    "\n",
    "#     # Display new class counts\n",
    "#     print(mixed['RESPONSE'].value_counts())\n",
    "#     print(\"\\n Mixed Sampling Done\")\n",
    "#     print(\"-\"*40)\n",
    "\n",
    "#     return upsampled, downsampled, mixed"
   ]
  },
  {
   "cell_type": "code",
   "execution_count": 290,
   "metadata": {},
   "outputs": [],
   "source": [
    "# def smote_func():\n",
    "    \n",
    "#     kf = StratifiedKFold(n_splits=5)\n",
    "\n",
    "#     for fold, (train_index, test_index) in enumerate(kf.split(X, y), 1):\n",
    "#         X_train = X.iloc[train_index]\n",
    "#         y_train = y.iloc[train_index]['RESPONSE'].ravel()\n",
    "#         X_test = X.iloc[test_index]\n",
    "#         y_test = y.iloc[test_index]['RESPONSE'].ravel()\n",
    "#         sm = SMOTE()\n",
    "#         X_train_oversampled, y_train_oversampled = sm.fit_sample(X_train, y_train)\n",
    "        \n",
    "#         model.fit(X_train_oversampled, y_train_oversampled)\n",
    "        \n",
    "#         print(f'For fold {fold}:')\n",
    "#         print_metrics(model, X_test, y_test, model_name)"
   ]
  },
  {
   "cell_type": "code",
   "execution_count": 291,
   "metadata": {},
   "outputs": [],
   "source": [
    "# train_ups, train_downs, train_mix = ou_sample_data(X_train_merged)"
   ]
  },
  {
   "cell_type": "code",
   "execution_count": 292,
   "metadata": {},
   "outputs": [],
   "source": [
    "# y_ups = train_ups[['RESPONSE']]\n",
    "# X_ups = train_ups.drop(['RESPONSE'], axis=1)\n",
    "\n",
    "# y_downs = train_downs[['RESPONSE']]\n",
    "# X_downs = train_downs.drop(['RESPONSE'], axis=1)\n",
    "\n",
    "# y_mix = train_mix[['RESPONSE']]\n",
    "# X_mix = train_mix.drop(['RESPONSE'], axis=1)"
   ]
  },
  {
   "cell_type": "markdown",
   "metadata": {},
   "source": [
    "### Splitting the datasets"
   ]
  },
  {
   "cell_type": "code",
   "execution_count": 293,
   "metadata": {},
   "outputs": [],
   "source": [
    "ts = 0.1\n",
    "\n",
    "X_sc_train, X_sc_test, y_sc_train, y_sc_test = train_test_split(X_sc, y, test_size=ts, random_state =0, shuffle=True)\n",
    "X_rsc_train, X_rsc_test, y_rsc_train, y_rsc_test = train_test_split(X_rsc, y, test_size=ts, random_state =0, shuffle=True)\n",
    "X_msc_train, X_msc_test, y_msc_train, y_msc_test = train_test_split(X_msc, y, test_size=ts, random_state =0, shuffle=True)\n",
    "\n",
    "curr_xy_train = {\n",
    "    'sc':(X_sc_train, y_sc_train),\n",
    "#     'rsc':(X_rsc_train, y_rsc_train),\n",
    "    'msc':(X_msc_train, y_msc_train)\n",
    "}\n",
    "\n",
    "curr_xy_test = {\n",
    "    'sc':(X_sc_test, y_sc_test),\n",
    "#     'rsc':(X_rsc_test, y_rsc_test),\n",
    "    'msc':(X_msc_test, y_msc_test)\n",
    "}"
   ]
  },
  {
   "cell_type": "markdown",
   "metadata": {},
   "source": [
    "#### Choosing a Baseline Model\n",
    "\n",
    "We'll choose RandomForestClassifier as our baseline model and compare our score with other models\n",
    "\n",
    "The other models we'll choose are:\n",
    "       1. GradientBoostingClassifier\n",
    "       2. AdaBoostClassifier\n",
    "       3. Logistic Regression\n",
    "       4. Nearest Centroid\n",
    "       5. XGBoost Classifier"
   ]
  },
  {
   "cell_type": "markdown",
   "metadata": {},
   "source": [
    "#### Making a function for Model Evaluation"
   ]
  },
  {
   "cell_type": "code",
   "execution_count": 324,
   "metadata": {},
   "outputs": [],
   "source": [
    "def print_metrics(model, X_test, y_test, model_name):\n",
    "    print('\\n' + model_name + ' performance on the test data set:')\n",
    "    \n",
    "    y_pred  = model.predict(X_test)\n",
    "    \n",
    "    accuracy_test   = accuracy_score(y_test, y_pred)\n",
    "#     F1_test         = f1_score(y_test, y_pred)\n",
    "#     precision_test  = precision_score(y_test, y_pred, average='binary')\n",
    "#     recall_test     = recall_score(y_test, y_pred, average='binary')\n",
    "\n",
    "    model_probs = model.predict_proba(X_test)[:, 1]\n",
    "    auc_test = roc_auc_score(y_test, model_probs)\n",
    "    false_positive, true_positive, _ = roc_curve(y_test, model_probs)\n",
    "\n",
    "    \n",
    "    header = [\"Metric\", \"Test\"]\n",
    "    table  = [\n",
    "               [\"accuracy\",  accuracy_test],\n",
    "#                [\"precision\", precision_test],\n",
    "#                [\"recall\",    recall_test],\n",
    "#                [\"F1\",        F1_test],\n",
    "               [\"AUC\",       auc_test]\n",
    "             ]\n",
    "\n",
    "    print(tabulate(table, header, tablefmt=\"fancy_grid\"))\n",
    "    \n",
    "    print('\\n' + model_name + ' ROC plot')\n",
    "    plt.figure()\n",
    "    plt.plot([0, 1], [0, 1], 'k--')\n",
    "    plt.plot(false_positive, true_positive, color='darkorange', label=model_name)\n",
    "    plt.xlabel('False positive rate')\n",
    "    plt.ylabel('True positive rate')\n",
    "    plt.title('ROC curve (area = %0.2f)' % auc_test)\n",
    "    plt.legend(loc='best')\n",
    "    plt.show()"
   ]
  },
  {
   "cell_type": "code",
   "execution_count": 321,
   "metadata": {},
   "outputs": [],
   "source": [
    "def plot_importance_feat(best_model, feature_col, top_n):\n",
    "    feature_imp = best_model.feature_importances_\n",
    "    \n",
    "    sorted_feature_columns = {feature_col[i]:round(feature_imp[i],3) for i in np.argsort(feature_imp)}\n",
    "    \n",
    "    top_n_features = dict(list(sorted_feature_columns.items())[-top_n:])\n",
    "    \n",
    "    plt.figure(figsize = (13,5))\n",
    "    plt.barh(range(len(top_n_features)), top_n_features.values(), align='center', color='green', ecolor='black', height=0.5)\n",
    "    plt.yticks(range(len(top_n_features)), top_n_features.keys(), fontsize=12)\n",
    "    plt.xticks(fontsize=12)\n",
    "    plt.xlabel('Relative Importance', fontsize=16)\n",
    "    plt.title('Predictor Importance', fontsize=20)\n",
    "    plt.show()"
   ]
  },
  {
   "cell_type": "markdown",
   "metadata": {},
   "source": [
    "## Using RandomForestClassification"
   ]
  },
  {
   "cell_type": "code",
   "execution_count": null,
   "metadata": {
    "scrolled": false
   },
   "outputs": [
    {
     "name": "stdout",
     "output_type": "stream",
     "text": [
      "----------------------------------------\n",
      "sc\n",
      "---------------------------------------- \n",
      "\n",
      "\n",
      "Random_Forest_Classifier_sc performance on the test data set:\n",
      "╒══════════╤══════════╕\n",
      "│ Metric   │     Test │\n",
      "╞══════════╪══════════╡\n",
      "│ accuracy │ 0.987293 │\n",
      "├──────────┼──────────┤\n",
      "│ AUC      │ 0.815109 │\n",
      "╘══════════╧══════════╛\n",
      "\n",
      "Random_Forest_Classifier_sc ROC plot\n"
     ]
    },
    {
     "data": {
      "image/png": "[encoded data removed]",
      "text/plain": [
       "<Figure size 432x288 with 1 Axes>"
      ]
     },
     "metadata": {
      "needs_background": "light"
     },
     "output_type": "display_data"
    },
    {
     "data": {
      "image/png": "[encoded data removed]",
      "text/plain": [
       "<Figure size 936x360 with 1 Axes>"
      ]
     },
     "metadata": {
      "needs_background": "light"
     },
     "output_type": "display_data"
    },
    {
     "name": "stdout",
     "output_type": "stream",
     "text": [
      "---------------------------------------------------------------------------------------------------- \n",
      "\n",
      "----------------------------------------\n",
      "msc\n",
      "---------------------------------------- \n",
      "\n"
     ]
    }
   ],
   "source": [
    "for k,v in curr_xy_train.items():\n",
    "    print(\"-\"*40)\n",
    "    print(str(k))\n",
    "    print(\"-\"*40,\"\\n\")\n",
    "    \n",
    "    model_name = 'Random_Forest_Classifier_'+k\n",
    "    model = RandomForestClassifier(random_state=42, criterion='gini', max_depth=5, n_estimators=500, max_features='auto')\n",
    "    \n",
    "    curr_X_train, curr_Y_train = curr_xy_train[k]\n",
    "    curr_X_test, curr_Y_test = curr_xy_test[k]\n",
    "    \n",
    "    model.fit(curr_X_train, curr_Y_train.values.ravel())\n",
    "    \n",
    "    print_metrics(model, curr_X_test, curr_Y_test.values.ravel(), model_name)\n",
    "    plot_importance_feat(gb_clf, curr_X_test.columns, 10)\n",
    "    \n",
    "    model_probs = model.predict_proba(curr_X_test)[:, 1]\n",
    "    auc_test = roc_auc_score(curr_Y_test, model_probs)    \n",
    "    model_name = model_name+'_'+str(auc_test)\n",
    "#     result_csv(model, model_name, mlts_sc)\n",
    "    \n",
    "    del model_name, model, auc_test, model_probs\n",
    "    \n",
    "    print(\"-\"*100,\"\\n\")"
   ]
  },
  {
   "cell_type": "code",
   "execution_count": 355,
   "metadata": {},
   "outputs": [],
   "source": [
    "n_estimators = [300,500,700]\n",
    "max_depth = [2,7,11]\n",
    "bootstrap = [False]\n",
    "\n",
    "param_grid = {'n_estimators': n_estimators,\n",
    "               'max_depth': max_depth,\n",
    "               'bootstrap': bootstrap}\n",
    "\n",
    "gs = GridSearchCV(RandomForestClassifier(), param_grid, cv=3, n_jobs=-1)\n",
    "gs.fit(X_sc_train, y_sc_train)"
   ]
  },
  {
   "cell_type": "code",
   "execution_count": null,
   "metadata": {},
   "outputs": [],
   "source": [
    "gs.best_estimator_"
   ]
  },
  {
   "cell_type": "code",
   "execution_count": null,
   "metadata": {},
   "outputs": [],
   "source": [
    "gs.best_params_"
   ]
  },
  {
   "cell_type": "markdown",
   "metadata": {},
   "source": [
    "## Using Logistic Regression"
   ]
  },
  {
   "cell_type": "code",
   "execution_count": 327,
   "metadata": {
    "scrolled": false
   },
   "outputs": [
    {
     "name": "stdout",
     "output_type": "stream",
     "text": [
      "----------------------------------------\n",
      "sc\n",
      "---------------------------------------- \n",
      "\n",
      "\n",
      "Logistic_Regression_sc performance on the test data set:\n",
      "╒══════════╤══════════╕\n",
      "│ Metric   │     Test │\n",
      "╞══════════╪══════════╡\n",
      "│ accuracy │ 0.987293 │\n",
      "├──────────┼──────────┤\n",
      "│ AUC      │ 0.757335 │\n",
      "╘══════════╧══════════╛\n",
      "\n",
      "Logistic_Regression_sc ROC plot\n"
     ]
    },
    {
     "data": {
      "image/png": "[encoded data removed]",
      "text/plain": [
       "<Figure size 432x288 with 1 Axes>"
      ]
     },
     "metadata": {
      "needs_background": "light"
     },
     "output_type": "display_data"
    },
    {
     "name": "stdout",
     "output_type": "stream",
     "text": [
      "---------------------------------------------------------------------------------------------------- \n",
      "\n",
      "----------------------------------------\n",
      "msc\n",
      "---------------------------------------- \n",
      "\n",
      "\n",
      "Logistic_Regression_msc performance on the test data set:\n",
      "╒══════════╤══════════╕\n",
      "│ Metric   │     Test │\n",
      "╞══════════╪══════════╡\n",
      "│ accuracy │ 0.987293 │\n",
      "├──────────┼──────────┤\n",
      "│ AUC      │ 0.76298  │\n",
      "╘══════════╧══════════╛\n",
      "\n",
      "Logistic_Regression_msc ROC plot\n"
     ]
    },
    {
     "name": "stderr",
     "output_type": "stream",
     "text": [
      "C:\\Users\\bune1\\anaconda3\\lib\\site-packages\\sklearn\\linear_model\\_logistic.py:764: ConvergenceWarning: lbfgs failed to converge (status=1):\n",
      "STOP: TOTAL NO. of ITERATIONS REACHED LIMIT.\n",
      "\n",
      "Increase the number of iterations (max_iter) or scale the data as shown in:\n",
      "    https://scikit-learn.org/stable/modules/preprocessing.html\n",
      "Please also refer to the documentation for alternative solver options:\n",
      "    https://scikit-learn.org/stable/modules/linear_model.html#logistic-regression\n",
      "  extra_warning_msg=_LOGISTIC_SOLVER_CONVERGENCE_MSG)\n"
     ]
    },
    {
     "data": {
      "image/png": "[encoded data removed]",
      "text/plain": [
       "<Figure size 432x288 with 1 Axes>"
      ]
     },
     "metadata": {
      "needs_background": "light"
     },
     "output_type": "display_data"
    },
    {
     "name": "stdout",
     "output_type": "stream",
     "text": [
      "---------------------------------------------------------------------------------------------------- \n",
      "\n"
     ]
    }
   ],
   "source": [
    "for k,v in curr_xy_train.items():\n",
    "    print(\"-\"*40)\n",
    "    print(str(k))\n",
    "    print(\"-\"*40,\"\\n\")\n",
    "    \n",
    "    model_name = 'Logistic_Regression_' + k\n",
    "    model = LogisticRegression(max_iter=300)\n",
    "    \n",
    "    curr_X_train, curr_Y_train = curr_xy_train[k]\n",
    "    curr_X_test, curr_Y_test = curr_xy_test[k]    \n",
    "    \n",
    "    model.fit(curr_X_train, curr_Y_train.values.ravel())\n",
    "    \n",
    "    print_metrics(model, curr_X_test, curr_Y_test.values.ravel(), model_name)\n",
    "#     plot_importance_feat(gb_clf, curr_X_test.columns, 10)\n",
    "    \n",
    "    model_probs = model.predict_proba(curr_X_test)[:, 1]\n",
    "    auc_test = roc_auc_score(curr_Y_test, model_probs)    \n",
    "    model_name = model_name+'_'+str(auc_test)  \n",
    "#     result_csv(model, model_name, mlts_sc)\n",
    "    \n",
    "    print(\"-\"*100,\"\\n\")"
   ]
  },
  {
   "cell_type": "markdown",
   "metadata": {},
   "source": [
    "## Using GradientBoosting"
   ]
  },
  {
   "cell_type": "code",
   "execution_count": 328,
   "metadata": {
    "scrolled": false
   },
   "outputs": [
    {
     "name": "stdout",
     "output_type": "stream",
     "text": [
      "----------------------------------------\n",
      "sc\n",
      "---------------------------------------- \n",
      "\n",
      "\n",
      "Gradient_Boosting_sc performance on the test data set:\n",
      "╒══════════╤══════════╕\n",
      "│ Metric   │     Test │\n",
      "╞══════════╪══════════╡\n",
      "│ accuracy │ 0.987293 │\n",
      "├──────────┼──────────┤\n",
      "│ AUC      │ 0.763342 │\n",
      "╘══════════╧══════════╛\n",
      "\n",
      "Gradient_Boosting_sc ROC plot\n"
     ]
    },
    {
     "data": {
      "image/png": "[encoded data removed]",
      "text/plain": [
       "<Figure size 432x288 with 1 Axes>"
      ]
     },
     "metadata": {
      "needs_background": "light"
     },
     "output_type": "display_data"
    },
    {
     "name": "stdout",
     "output_type": "stream",
     "text": [
      "----------------------------------------\n",
      "Making prediction\n",
      "----------------------------------------\n",
      "----------------------------------------\n",
      "Copying main dataframe\n",
      "----------------------------------------\n",
      "----------------------------------------\n",
      "Saving response\n",
      "----------------------------------------\n",
      "----------------------------------------\n",
      "Dropping rest columns\n",
      "----------------------------------------\n",
      "----------------------------------------\n",
      "Saving to csv\n",
      "----------------------------------------\n",
      "\n",
      "\n",
      "----------------------------------------\n",
      "DONE\n",
      "----------------------------------------\n",
      "---------------------------------------------------------------------------------------------------- \n",
      "\n",
      "----------------------------------------\n",
      "msc\n",
      "---------------------------------------- \n",
      "\n",
      "\n",
      "Gradient_Boosting_msc performance on the test data set:\n",
      "╒══════════╤══════════╕\n",
      "│ Metric   │     Test │\n",
      "╞══════════╪══════════╡\n",
      "│ accuracy │ 0.987293 │\n",
      "├──────────┼──────────┤\n",
      "│ AUC      │ 0.763342 │\n",
      "╘══════════╧══════════╛\n",
      "\n",
      "Gradient_Boosting_msc ROC plot\n"
     ]
    },
    {
     "data": {
      "image/png": "[encoded data removed]",
      "text/plain": [
       "<Figure size 432x288 with 1 Axes>"
      ]
     },
     "metadata": {
      "needs_background": "light"
     },
     "output_type": "display_data"
    },
    {
     "name": "stdout",
     "output_type": "stream",
     "text": [
      "----------------------------------------\n",
      "Making prediction\n",
      "----------------------------------------\n",
      "----------------------------------------\n",
      "Copying main dataframe\n",
      "----------------------------------------\n",
      "----------------------------------------\n",
      "Saving response\n",
      "----------------------------------------\n",
      "----------------------------------------\n",
      "Dropping rest columns\n",
      "----------------------------------------\n",
      "----------------------------------------\n",
      "Saving to csv\n",
      "----------------------------------------\n",
      "\n",
      "\n",
      "----------------------------------------\n",
      "DONE\n",
      "----------------------------------------\n",
      "---------------------------------------------------------------------------------------------------- \n",
      "\n"
     ]
    }
   ],
   "source": [
    "for k,v in curr_xy_train.items():\n",
    "    print(\"-\"*40)\n",
    "    print(str(k))\n",
    "    print(\"-\"*40,\"\\n\")\n",
    "    \n",
    "    model_name = 'Gradient_Boosting_'+k\n",
    "    model = GradientBoostingClassifier(n_estimators=20, learning_rate=0.25, max_features=2, max_depth=2, random_state=0)\n",
    "    \n",
    "    curr_X_train, curr_Y_train = curr_xy_train[k]\n",
    "    curr_X_test, curr_Y_test = curr_xy_test[k]    \n",
    "    \n",
    "    model.fit(curr_X_train, curr_Y_train.values.ravel())\n",
    "    \n",
    "    print_metrics(model, curr_X_test, curr_Y_test.values.ravel(), model_name)\n",
    "#     plot_importance_feat(gb_clf, curr_X_test.columns, 10)\n",
    "    \n",
    "    model_probs = model.predict_proba(curr_X_test)[:, 1]\n",
    "    auc_test = roc_auc_score(curr_Y_test, model_probs)    \n",
    "    model_name = model_name+'_'+str(auc_test)  \n",
    "#     result_csv(model, model_name, mlts_sc)\n",
    "    \n",
    "    print(\"-\"*100,\"\\n\")"
   ]
  },
  {
   "cell_type": "markdown",
   "metadata": {},
   "source": [
    "## Using XGB"
   ]
  },
  {
   "cell_type": "code",
   "execution_count": 329,
   "metadata": {
    "scrolled": false
   },
   "outputs": [
    {
     "name": "stdout",
     "output_type": "stream",
     "text": [
      "----------------------------------------\n",
      "sc\n",
      "---------------------------------------- \n",
      "\n",
      "\n",
      "XGB_sc performance on the test data set:\n",
      "╒══════════╤══════════╕\n",
      "│ Metric   │     Test │\n",
      "╞══════════╪══════════╡\n",
      "│ accuracy │ 0.987293 │\n",
      "├──────────┼──────────┤\n",
      "│ AUC      │ 0.771082 │\n",
      "╘══════════╧══════════╛\n",
      "\n",
      "XGB_sc ROC plot\n"
     ]
    },
    {
     "data": {
      "image/png": "[encoded data removed]",
      "text/plain": [
       "<Figure size 432x288 with 1 Axes>"
      ]
     },
     "metadata": {
      "needs_background": "light"
     },
     "output_type": "display_data"
    },
    {
     "name": "stdout",
     "output_type": "stream",
     "text": [
      "---------------------------------------------------------------------------------------------------- \n",
      "\n",
      "----------------------------------------\n",
      "msc\n",
      "---------------------------------------- \n",
      "\n",
      "\n",
      "XGB_msc performance on the test data set:\n",
      "╒══════════╤══════════╕\n",
      "│ Metric   │     Test │\n",
      "╞══════════╪══════════╡\n",
      "│ accuracy │ 0.987293 │\n",
      "├──────────┼──────────┤\n",
      "│ AUC      │ 0.771082 │\n",
      "╘══════════╧══════════╛\n",
      "\n",
      "XGB_msc ROC plot\n"
     ]
    },
    {
     "data": {
      "image/png": "[encoded data removed]",
      "text/plain": [
       "<Figure size 432x288 with 1 Axes>"
      ]
     },
     "metadata": {
      "needs_background": "light"
     },
     "output_type": "display_data"
    },
    {
     "name": "stdout",
     "output_type": "stream",
     "text": [
      "---------------------------------------------------------------------------------------------------- \n",
      "\n"
     ]
    }
   ],
   "source": [
    "for k,v in curr_xy_train.items():\n",
    "    print(\"-\"*40)\n",
    "    print(str(k))\n",
    "    print(\"-\"*40,\"\\n\")\n",
    "    \n",
    "    model_name = 'XGB_'+k\n",
    "    model = XGBClassifier()\n",
    "    \n",
    "    curr_X_train, curr_Y_train = curr_xy_train[k]\n",
    "    curr_X_test, curr_Y_test = curr_xy_test[k]    \n",
    "    \n",
    "    model.fit(curr_X_train, curr_Y_train.values.ravel())\n",
    "    \n",
    "    print_metrics(model, curr_X_test, curr_Y_test.values.ravel(), model_name)\n",
    "#     plot_importance_feat(gb_clf, curr_X_test.columns, 10)\n",
    "    \n",
    "    model_probs = model.predict_proba(curr_X_test)[:, 1]\n",
    "    auc_test = roc_auc_score(curr_Y_test, model_probs)    \n",
    "    model_name = model_name+'_'+str(auc_test)\n",
    "#     result_csv(model, model_name, mlts_sc)\n",
    "    \n",
    "    del model_name, model, auc_test, model_probs\n",
    "    \n",
    "    print(\"-\"*100,\"\\n\")"
   ]
  },
  {
   "cell_type": "markdown",
   "metadata": {},
   "source": [
    "## LGBM Classifier"
   ]
  },
  {
   "cell_type": "code",
   "execution_count": 330,
   "metadata": {
    "scrolled": false
   },
   "outputs": [
    {
     "name": "stdout",
     "output_type": "stream",
     "text": [
      "----------------------------------------\n",
      "sc\n",
      "---------------------------------------- \n",
      "\n",
      "\n",
      "LGBM_sc performance on the test data set:\n",
      "╒══════════╤══════════╕\n",
      "│ Metric   │     Test │\n",
      "╞══════════╪══════════╡\n",
      "│ accuracy │ 0.987293 │\n",
      "├──────────┼──────────┤\n",
      "│ AUC      │ 0.788728 │\n",
      "╘══════════╧══════════╛\n",
      "\n",
      "LGBM_sc ROC plot\n"
     ]
    },
    {
     "data": {
      "image/png": "[encoded data removed]",
      "text/plain": [
       "<Figure size 432x288 with 1 Axes>"
      ]
     },
     "metadata": {
      "needs_background": "light"
     },
     "output_type": "display_data"
    },
    {
     "name": "stdout",
     "output_type": "stream",
     "text": [
      "---------------------------------------------------------------------------------------------------- \n",
      "\n",
      "----------------------------------------\n",
      "msc\n",
      "---------------------------------------- \n",
      "\n",
      "\n",
      "LGBM_msc performance on the test data set:\n",
      "╒══════════╤══════════╕\n",
      "│ Metric   │     Test │\n",
      "╞══════════╪══════════╡\n",
      "│ accuracy │ 0.987293 │\n",
      "├──────────┼──────────┤\n",
      "│ AUC      │ 0.778315 │\n",
      "╘══════════╧══════════╛\n",
      "\n",
      "LGBM_msc ROC plot\n"
     ]
    },
    {
     "data": {
      "image/png": "[encoded data removed]",
      "text/plain": [
       "<Figure size 432x288 with 1 Axes>"
      ]
     },
     "metadata": {
      "needs_background": "light"
     },
     "output_type": "display_data"
    },
    {
     "name": "stdout",
     "output_type": "stream",
     "text": [
      "---------------------------------------------------------------------------------------------------- \n",
      "\n"
     ]
    }
   ],
   "source": [
    "for k,v in curr_xy_train.items():\n",
    "    print(\"-\"*40)\n",
    "    print(str(k))\n",
    "    print(\"-\"*40,\"\\n\")\n",
    "    \n",
    "    model_name = 'LGBM_'+k\n",
    "    model = LGBMClassifier(boosting_type='gbdt', objective='binary', num_leaves=50,\n",
    "                                learning_rate=0.1, n_estimators=300, \n",
    "                                bagging_fraction=0.9, feature_fraction=0.9, reg_lambda=0.2)\n",
    "    \n",
    "    curr_X_train, curr_Y_train = curr_xy_train[k]\n",
    "    curr_X_test, curr_Y_test = curr_xy_test[k]    \n",
    "    \n",
    "    model.fit(curr_X_train, curr_Y_train.values.ravel())\n",
    "    \n",
    "    print_metrics(model, curr_X_test, curr_Y_test.values.ravel(), model_name)\n",
    "#     plot_importance_feat(gb_clf, curr_X_test.columns, 10)\n",
    "    \n",
    "    model_probs = model.predict_proba(curr_X_test)[:, 1]\n",
    "    auc_test = roc_auc_score(curr_Y_test, model_probs)    \n",
    "    model_name = model_name+'_'+str(auc_test)\n",
    "#     result_csv(model, model_name, mlts_sc)\n",
    "    \n",
    "    del model_name, model, auc_test, model_probs\n",
    "    \n",
    "    print(\"-\"*100,\"\\n\")"
   ]
  },
  {
   "cell_type": "markdown",
   "metadata": {},
   "source": [
    "## Part 3: Kaggle Competition\n",
    "\n",
    "Now that you've created a model to predict which individuals are most likely to respond to a mailout campaign, it's time to test that model in competition through Kaggle. If you click on the link [here](http://www.kaggle.com/t/21e6d45d4c574c7fa2d868f0e8c83140), you'll be taken to the competition page where, if you have a Kaggle account, you can enter. If you're one of the top performers, you may have the chance to be contacted by a hiring manager from Arvato or Bertelsmann for an interview!\n",
    "\n",
    "Your entry to the competition should be a CSV file with two columns. The first column should be a copy of \"LNR\", which acts as an ID number for each individual in the \"TEST\" partition. The second column, \"RESPONSE\", should be some measure of how likely each individual became a customer – this might not be a straightforward probability. As you should have found in Part 2, there is a large output class imbalance, where most individuals did not respond to the mailout. Thus, predicting individual classes and using accuracy does not seem to be an appropriate performance evaluation method. Instead, the competition will be using AUC to evaluate performance. The exact values of the \"RESPONSE\" column do not matter as much: only that the higher values try to capture as many of the actual customers as possible, early in the ROC curve sweep."
   ]
  },
  {
   "cell_type": "code",
   "execution_count": 302,
   "metadata": {},
   "outputs": [],
   "source": [
    "def result_csv(model, model_name_str, df_to_predict):\n",
    "    print(\"-\"*40)\n",
    "    print(\"Making prediction\")\n",
    "    pred = model.predict(df_to_predict)\n",
    "    predictions = model.predict_proba(df_to_predict)[:, 1]\n",
    "    print(\"-\"*40)        \n",
    "    \n",
    "    print(\"-\"*40)\n",
    "    print(\"Copying main dataframe\")\n",
    "    result = df_to_predict.copy()\n",
    "    print(\"-\"*40)\n",
    "\n",
    "    print(\"-\"*40)\n",
    "    print(\"Saving response\")\n",
    "    result['RESPONSE'] = predictions\n",
    "    print(\"-\"*40)\n",
    "\n",
    "    print(\"-\"*40)\n",
    "    print(\"Dropping rest columns\")\n",
    "    result.drop(list(df_to_predict.columns), axis=1, inplace=True)\n",
    "    print(\"-\"*40)\n",
    "\n",
    "    print(\"-\"*40)\n",
    "    print(\"Saving to csv\")\n",
    "    csv_loc = './pred/'+model_name_str+'_result.csv'\n",
    "    result.to_csv(csv_loc)\n",
    "    print(\"-\"*40)\n",
    "        \n",
    "    print(\"\\n\")\n",
    "    print(\"-\"*40)\n",
    "    print(\"DONE\")\n",
    "    print(\"-\"*40)\n",
    "    \n",
    "    return"
   ]
  },
  {
   "cell_type": "code",
   "execution_count": null,
   "metadata": {},
   "outputs": [],
   "source": []
  }
 ],
 "metadata": {
  "kernelspec": {
   "display_name": "Python 3",
   "language": "python",
   "name": "python3"
  },
  "language_info": {
   "codemirror_mode": {
    "name": "ipython",
    "version": 3
   },
   "file_extension": ".py",
   "mimetype": "text/x-python",
   "name": "python",
   "nbconvert_exporter": "python",
   "pygments_lexer": "ipython3",
   "version": "3.7.6"
  }
 },
 "nbformat": 4,
 "nbformat_minor": 2
}
